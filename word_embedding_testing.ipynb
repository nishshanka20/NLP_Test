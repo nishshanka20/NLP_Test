{
  "nbformat": 4,
  "nbformat_minor": 0,
  "metadata": {
    "colab": {
      "provenance": []
    },
    "kernelspec": {
      "name": "python3",
      "display_name": "Python 3"
    },
    "language_info": {
      "name": "python"
    }
  },
  "cells": [
    {
      "cell_type": "code",
      "source": [
        "import tensorflow as ft\n",
        "print(ft.__version__)"
      ],
      "metadata": {
        "colab": {
          "base_uri": "https://localhost:8080/"
        },
        "id": "tOYgOZlsqleT",
        "outputId": "eb4a5614-429c-4a34-8dbb-f3b705b456ef"
      },
      "execution_count": null,
      "outputs": [
        {
          "output_type": "stream",
          "name": "stdout",
          "text": [
            "2.15.0\n"
          ]
        }
      ]
    },
    {
      "cell_type": "code",
      "source": [
        "sent=[\"The world is a better place\",\n",
        "      \"Marvel series is my favourite movie\",\n",
        "      \"I like DC movies\",\n",
        "      \"the cat is eating the food\",\n",
        "      \"Tom and Jerry is my favourite movie\",\n",
        "      \"Python is my favourite programming language\"\n",
        "      ]"
      ],
      "metadata": {
        "id": "c--I5CyvqzRV"
      },
      "execution_count": null,
      "outputs": []
    },
    {
      "cell_type": "code",
      "source": [
        "from tensorflow.keras.preprocessing.text import one_hot"
      ],
      "metadata": {
        "id": "f-f7FBtPqz7A"
      },
      "execution_count": null,
      "outputs": []
    },
    {
      "cell_type": "code",
      "source": [
        "voc_size=10000"
      ],
      "metadata": {
        "id": "6GTsRXi2q-Jc"
      },
      "execution_count": null,
      "outputs": []
    },
    {
      "cell_type": "code",
      "source": [
        "onehot_represent=[one_hot(words,voc_size)for words in sent]\n",
        "print(onehot_represent)"
      ],
      "metadata": {
        "colab": {
          "base_uri": "https://localhost:8080/"
        },
        "id": "XJNPZTeTrDmD",
        "outputId": "d297584f-4d1f-4164-9684-c20f87cd07c9"
      },
      "execution_count": null,
      "outputs": [
        {
          "output_type": "stream",
          "name": "stdout",
          "text": [
            "[[4888, 5040, 5851, 9384, 7923, 288], [5740, 5395, 5851, 372, 985, 9825], [69, 7194, 8125, 7962], [4888, 3675, 5851, 3763, 4888, 6924], [575, 767, 1439, 5851, 372, 985, 9825], [8603, 5851, 372, 985, 5677, 6773]]\n"
          ]
        }
      ]
    },
    {
      "cell_type": "code",
      "source": [
        "from tensorflow.keras.layers import Embedding\n",
        "from tensorflow.keras.preprocessing.sequence import pad_sequences\n",
        "from tensorflow.keras.models import Sequential"
      ],
      "metadata": {
        "id": "9Fd29goarWMY"
      },
      "execution_count": null,
      "outputs": []
    },
    {
      "cell_type": "code",
      "source": [
        "import numpy as np"
      ],
      "metadata": {
        "id": "bzPOLOVLrtJ7"
      },
      "execution_count": null,
      "outputs": []
    },
    {
      "cell_type": "code",
      "source": [
        "sent_length=10\n",
        "embedded_docs=pad_sequences(onehot_represent,padding='pre',maxlen=sent_length)\n",
        "print(embedded_docs)"
      ],
      "metadata": {
        "colab": {
          "base_uri": "https://localhost:8080/"
        },
        "id": "0M2PlFROrwK9",
        "outputId": "d322c320-218b-44af-cbf3-b71d9b0398ba"
      },
      "execution_count": null,
      "outputs": [
        {
          "output_type": "stream",
          "name": "stdout",
          "text": [
            "[[   0    0    0    0 4888 5040 5851 9384 7923  288]\n",
            " [   0    0    0    0 5740 5395 5851  372  985 9825]\n",
            " [   0    0    0    0    0    0   69 7194 8125 7962]\n",
            " [   0    0    0    0 4888 3675 5851 3763 4888 6924]\n",
            " [   0    0    0  575  767 1439 5851  372  985 9825]\n",
            " [   0    0    0    0 8603 5851  372  985 5677 6773]]\n"
          ]
        }
      ]
    },
    {
      "cell_type": "code",
      "source": [
        "dim=10"
      ],
      "metadata": {
        "id": "Jncjg75JtmX8"
      },
      "execution_count": null,
      "outputs": []
    },
    {
      "cell_type": "code",
      "source": [
        "model=Sequential()\n",
        "model.add(Embedding(voc_size,10,input_length=sent_length))\n",
        "model.compile('adam','mse')"
      ],
      "metadata": {
        "id": "5Uc6KOERtvMG"
      },
      "execution_count": null,
      "outputs": []
    },
    {
      "cell_type": "code",
      "source": [
        "model.summary()"
      ],
      "metadata": {
        "colab": {
          "base_uri": "https://localhost:8080/"
        },
        "id": "1w2Fq2v4t_yM",
        "outputId": "270a316e-eed3-4c7b-bf13-efd3c39a399a"
      },
      "execution_count": null,
      "outputs": [
        {
          "output_type": "stream",
          "name": "stdout",
          "text": [
            "Model: \"sequential_1\"\n",
            "_________________________________________________________________\n",
            " Layer (type)                Output Shape              Param #   \n",
            "=================================================================\n",
            " embedding_1 (Embedding)     (None, 10, 10)            100000    \n",
            "                                                                 \n",
            "=================================================================\n",
            "Total params: 100000 (390.62 KB)\n",
            "Trainable params: 100000 (390.62 KB)\n",
            "Non-trainable params: 0 (0.00 Byte)\n",
            "_________________________________________________________________\n"
          ]
        }
      ]
    },
    {
      "cell_type": "code",
      "source": [
        "embedded_docs[0]"
      ],
      "metadata": {
        "colab": {
          "base_uri": "https://localhost:8080/"
        },
        "id": "Dt1ox1tSuCn_",
        "outputId": "9d6565e0-577a-464d-974f-e6e72af25c5a"
      },
      "execution_count": null,
      "outputs": [
        {
          "output_type": "execute_result",
          "data": {
            "text/plain": [
              "array([   0,    0,    0,    0, 4888, 5040, 5851, 9384, 7923,  288],\n",
              "      dtype=int32)"
            ]
          },
          "metadata": {},
          "execution_count": 26
        }
      ]
    },
    {
      "cell_type": "code",
      "source": [
        "model.predict(embedded_docs[0]).reshape(-1,1)"
      ],
      "metadata": {
        "colab": {
          "base_uri": "https://localhost:8080/"
        },
        "id": "TP2w0h54uLLI",
        "outputId": "bc36c38c-65cd-4814-f9d4-082a017dc862"
      },
      "execution_count": null,
      "outputs": [
        {
          "output_type": "stream",
          "name": "stdout",
          "text": [
            "1/1 [==============================] - 0s 49ms/step\n"
          ]
        },
        {
          "output_type": "execute_result",
          "data": {
            "text/plain": [
              "array([[ 0.01815932],\n",
              "       [ 0.02761726],\n",
              "       [-0.00256782],\n",
              "       [-0.0430895 ],\n",
              "       [ 0.04524681],\n",
              "       [ 0.04253869],\n",
              "       [ 0.01735238],\n",
              "       [ 0.04721938],\n",
              "       [-0.02467009],\n",
              "       [-0.01438552],\n",
              "       [ 0.01815932],\n",
              "       [ 0.02761726],\n",
              "       [-0.00256782],\n",
              "       [-0.0430895 ],\n",
              "       [ 0.04524681],\n",
              "       [ 0.04253869],\n",
              "       [ 0.01735238],\n",
              "       [ 0.04721938],\n",
              "       [-0.02467009],\n",
              "       [-0.01438552],\n",
              "       [ 0.01815932],\n",
              "       [ 0.02761726],\n",
              "       [-0.00256782],\n",
              "       [-0.0430895 ],\n",
              "       [ 0.04524681],\n",
              "       [ 0.04253869],\n",
              "       [ 0.01735238],\n",
              "       [ 0.04721938],\n",
              "       [-0.02467009],\n",
              "       [-0.01438552],\n",
              "       [ 0.01815932],\n",
              "       [ 0.02761726],\n",
              "       [-0.00256782],\n",
              "       [-0.0430895 ],\n",
              "       [ 0.04524681],\n",
              "       [ 0.04253869],\n",
              "       [ 0.01735238],\n",
              "       [ 0.04721938],\n",
              "       [-0.02467009],\n",
              "       [-0.01438552],\n",
              "       [-0.04576985],\n",
              "       [ 0.00628718],\n",
              "       [-0.04974582],\n",
              "       [-0.04936311],\n",
              "       [ 0.03441319],\n",
              "       [ 0.0348421 ],\n",
              "       [ 0.01782979],\n",
              "       [ 0.00929959],\n",
              "       [ 0.01902214],\n",
              "       [-0.03436259],\n",
              "       [ 0.02874671],\n",
              "       [ 0.04611249],\n",
              "       [ 0.04364291],\n",
              "       [-0.02535319],\n",
              "       [-0.0426453 ],\n",
              "       [ 0.04302773],\n",
              "       [-0.03697803],\n",
              "       [-0.03253795],\n",
              "       [ 0.00063024],\n",
              "       [ 0.01114034],\n",
              "       [ 0.03605983],\n",
              "       [-0.04594031],\n",
              "       [ 0.03686011],\n",
              "       [ 0.02195359],\n",
              "       [-0.01820435],\n",
              "       [-0.01161962],\n",
              "       [ 0.0208992 ],\n",
              "       [ 0.04232358],\n",
              "       [ 0.02423786],\n",
              "       [ 0.04839886],\n",
              "       [-0.01021011],\n",
              "       [ 0.04651036],\n",
              "       [-0.01075483],\n",
              "       [-0.04354682],\n",
              "       [ 0.02679684],\n",
              "       [-0.02550684],\n",
              "       [ 0.02193237],\n",
              "       [-0.02944169],\n",
              "       [ 0.00138024],\n",
              "       [-0.02705185],\n",
              "       [-0.00797093],\n",
              "       [ 0.00938827],\n",
              "       [ 0.01499588],\n",
              "       [ 0.00581161],\n",
              "       [ 0.02420323],\n",
              "       [ 0.02398212],\n",
              "       [-0.0130331 ],\n",
              "       [-0.03027721],\n",
              "       [-0.02772331],\n",
              "       [-0.04495503],\n",
              "       [-0.04904221],\n",
              "       [ 0.02621103],\n",
              "       [ 0.01499006],\n",
              "       [ 0.00516771],\n",
              "       [ 0.02679957],\n",
              "       [ 0.0177675 ],\n",
              "       [-0.04684049],\n",
              "       [ 0.03196475],\n",
              "       [-0.03374247],\n",
              "       [ 0.02650613]], dtype=float32)"
            ]
          },
          "metadata": {},
          "execution_count": 27
        }
      ]
    },
    {
      "cell_type": "code",
      "source": [],
      "metadata": {
        "id": "hem7zd_Sus1g"
      },
      "execution_count": null,
      "outputs": []
    }
  ]
}