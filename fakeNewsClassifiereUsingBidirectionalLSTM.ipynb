{
  "nbformat": 4,
  "nbformat_minor": 0,
  "metadata": {
    "colab": {
      "provenance": []
    },
    "kernelspec": {
      "name": "python3",
      "display_name": "Python 3"
    },
    "language_info": {
      "name": "python"
    }
  },
  "cells": [
    {
      "cell_type": "code",
      "execution_count": null,
      "metadata": {
        "id": "nTOceoY09VgJ"
      },
      "outputs": [],
      "source": []
    },
    {
      "cell_type": "markdown",
      "source": [
        "## Fake News Classfier Using Bidirectional LSTM"
      ],
      "metadata": {
        "id": "tVzLE1w_9XL_"
      }
    },
    {
      "cell_type": "code",
      "source": [
        "import pandas as pd\n"
      ],
      "metadata": {
        "id": "HSzDWiyb9n3W"
      },
      "execution_count": null,
      "outputs": []
    },
    {
      "cell_type": "code",
      "source": [
        "try:\n",
        "    df = pd.read_csv('train.csv', on_bad_lines='skip', engine='python')\n",
        "    print(df.tail())\n",
        "except pd.errors.ParserError as e:\n",
        "    print(\"Error parsing file: \", e)"
      ],
      "metadata": {
        "colab": {
          "base_uri": "https://localhost:8080/"
        },
        "id": "Yn54ll86_X5z",
        "outputId": "9826597a-94cd-4530-d721-0c9e71a8f703"
      },
      "execution_count": null,
      "outputs": [
        {
          "output_type": "stream",
          "name": "stdout",
          "text": [
            "          id                                              title  \\\n",
            "15129  15114  Donald Trump Says Drugs Are ‘Big Factor’ in Ur...   \n",
            "15130  15115  Mitch McConnell, Paul Ryan Meet with Donald Tr...   \n",
            "15131  15116  Susan Rice, Ex-Obama Adviser, Is Back in Polit...   \n",
            "15132  15117  The Fix Is In: NBC Affiliate Accidentally Post...   \n",
            "15133  15118  Original unreleased transcript of Sonia Gandhi...   \n",
            "\n",
            "                    author                                               text  \\\n",
            "15129        Ashley Parker  PITTSBURGH  —   Donald J. Trump said Thursday ...   \n",
            "15130     Charlie Spiering  House Speaker Paul Ryan and Senate Majority Le...   \n",
            "15131          Peter Baker  WASHINGTON  —   She has been here before. Afte...   \n",
            "15132        PatriotRising  Posted 11/03/2016 12:44 am by PatriotRising wi...   \n",
            "15133  Suresh Subrahmanyan  Original unreleased transcript of Sonia Gandhi...   \n",
            "\n",
            "       label  \n",
            "15129    0.0  \n",
            "15130    0.0  \n",
            "15131    0.0  \n",
            "15132    1.0  \n",
            "15133    1.0  \n"
          ]
        }
      ]
    },
    {
      "cell_type": "code",
      "source": [
        "df.head()"
      ],
      "metadata": {
        "colab": {
          "base_uri": "https://localhost:8080/",
          "height": 380
        },
        "id": "Er0jeKKjA51c",
        "outputId": "106f905d-86b0-4f0c-bdb1-011e7498fdd5"
      },
      "execution_count": null,
      "outputs": [
        {
          "output_type": "execute_result",
          "data": {
            "text/plain": [
              "  id                                              title              author  \\\n",
              "0  0  House Dem Aide: We Didn’t Even See Comey’s Let...       Darrell Lucus   \n",
              "1  1  FLYNN: Hillary Clinton, Big Woman on Campus - ...     Daniel J. Flynn   \n",
              "2  2                  Why the Truth Might Get You Fired  Consortiumnews.com   \n",
              "3  3  15 Civilians Killed In Single US Airstrike Hav...     Jessica Purkiss   \n",
              "4  4  Iranian woman jailed for fictional unpublished...      Howard Portnoy   \n",
              "\n",
              "                                                text  label  \n",
              "0  House Dem Aide: We Didn’t Even See Comey’s Let...    1.0  \n",
              "1  Ever get the feeling your life circles the rou...    0.0  \n",
              "2  Why the Truth Might Get You Fired October 29, ...    1.0  \n",
              "3  Videos 15 Civilians Killed In Single US Airstr...    1.0  \n",
              "4  Print \\nAn Iranian woman has been sentenced to...    1.0  "
            ],
            "text/html": [
              "\n",
              "  <div id=\"df-c9aa4175-86f1-412f-8457-0c1640280026\" class=\"colab-df-container\">\n",
              "    <div>\n",
              "<style scoped>\n",
              "    .dataframe tbody tr th:only-of-type {\n",
              "        vertical-align: middle;\n",
              "    }\n",
              "\n",
              "    .dataframe tbody tr th {\n",
              "        vertical-align: top;\n",
              "    }\n",
              "\n",
              "    .dataframe thead th {\n",
              "        text-align: right;\n",
              "    }\n",
              "</style>\n",
              "<table border=\"1\" class=\"dataframe\">\n",
              "  <thead>\n",
              "    <tr style=\"text-align: right;\">\n",
              "      <th></th>\n",
              "      <th>id</th>\n",
              "      <th>title</th>\n",
              "      <th>author</th>\n",
              "      <th>text</th>\n",
              "      <th>label</th>\n",
              "    </tr>\n",
              "  </thead>\n",
              "  <tbody>\n",
              "    <tr>\n",
              "      <th>0</th>\n",
              "      <td>0</td>\n",
              "      <td>House Dem Aide: We Didn’t Even See Comey’s Let...</td>\n",
              "      <td>Darrell Lucus</td>\n",
              "      <td>House Dem Aide: We Didn’t Even See Comey’s Let...</td>\n",
              "      <td>1.0</td>\n",
              "    </tr>\n",
              "    <tr>\n",
              "      <th>1</th>\n",
              "      <td>1</td>\n",
              "      <td>FLYNN: Hillary Clinton, Big Woman on Campus - ...</td>\n",
              "      <td>Daniel J. Flynn</td>\n",
              "      <td>Ever get the feeling your life circles the rou...</td>\n",
              "      <td>0.0</td>\n",
              "    </tr>\n",
              "    <tr>\n",
              "      <th>2</th>\n",
              "      <td>2</td>\n",
              "      <td>Why the Truth Might Get You Fired</td>\n",
              "      <td>Consortiumnews.com</td>\n",
              "      <td>Why the Truth Might Get You Fired October 29, ...</td>\n",
              "      <td>1.0</td>\n",
              "    </tr>\n",
              "    <tr>\n",
              "      <th>3</th>\n",
              "      <td>3</td>\n",
              "      <td>15 Civilians Killed In Single US Airstrike Hav...</td>\n",
              "      <td>Jessica Purkiss</td>\n",
              "      <td>Videos 15 Civilians Killed In Single US Airstr...</td>\n",
              "      <td>1.0</td>\n",
              "    </tr>\n",
              "    <tr>\n",
              "      <th>4</th>\n",
              "      <td>4</td>\n",
              "      <td>Iranian woman jailed for fictional unpublished...</td>\n",
              "      <td>Howard Portnoy</td>\n",
              "      <td>Print \\nAn Iranian woman has been sentenced to...</td>\n",
              "      <td>1.0</td>\n",
              "    </tr>\n",
              "  </tbody>\n",
              "</table>\n",
              "</div>\n",
              "    <div class=\"colab-df-buttons\">\n",
              "\n",
              "  <div class=\"colab-df-container\">\n",
              "    <button class=\"colab-df-convert\" onclick=\"convertToInteractive('df-c9aa4175-86f1-412f-8457-0c1640280026')\"\n",
              "            title=\"Convert this dataframe to an interactive table.\"\n",
              "            style=\"display:none;\">\n",
              "\n",
              "  <svg xmlns=\"http://www.w3.org/2000/svg\" height=\"24px\" viewBox=\"0 -960 960 960\">\n",
              "    <path d=\"M120-120v-720h720v720H120Zm60-500h600v-160H180v160Zm220 220h160v-160H400v160Zm0 220h160v-160H400v160ZM180-400h160v-160H180v160Zm440 0h160v-160H620v160ZM180-180h160v-160H180v160Zm440 0h160v-160H620v160Z\"/>\n",
              "  </svg>\n",
              "    </button>\n",
              "\n",
              "  <style>\n",
              "    .colab-df-container {\n",
              "      display:flex;\n",
              "      gap: 12px;\n",
              "    }\n",
              "\n",
              "    .colab-df-convert {\n",
              "      background-color: #E8F0FE;\n",
              "      border: none;\n",
              "      border-radius: 50%;\n",
              "      cursor: pointer;\n",
              "      display: none;\n",
              "      fill: #1967D2;\n",
              "      height: 32px;\n",
              "      padding: 0 0 0 0;\n",
              "      width: 32px;\n",
              "    }\n",
              "\n",
              "    .colab-df-convert:hover {\n",
              "      background-color: #E2EBFA;\n",
              "      box-shadow: 0px 1px 2px rgba(60, 64, 67, 0.3), 0px 1px 3px 1px rgba(60, 64, 67, 0.15);\n",
              "      fill: #174EA6;\n",
              "    }\n",
              "\n",
              "    .colab-df-buttons div {\n",
              "      margin-bottom: 4px;\n",
              "    }\n",
              "\n",
              "    [theme=dark] .colab-df-convert {\n",
              "      background-color: #3B4455;\n",
              "      fill: #D2E3FC;\n",
              "    }\n",
              "\n",
              "    [theme=dark] .colab-df-convert:hover {\n",
              "      background-color: #434B5C;\n",
              "      box-shadow: 0px 1px 3px 1px rgba(0, 0, 0, 0.15);\n",
              "      filter: drop-shadow(0px 1px 2px rgba(0, 0, 0, 0.3));\n",
              "      fill: #FFFFFF;\n",
              "    }\n",
              "  </style>\n",
              "\n",
              "    <script>\n",
              "      const buttonEl =\n",
              "        document.querySelector('#df-c9aa4175-86f1-412f-8457-0c1640280026 button.colab-df-convert');\n",
              "      buttonEl.style.display =\n",
              "        google.colab.kernel.accessAllowed ? 'block' : 'none';\n",
              "\n",
              "      async function convertToInteractive(key) {\n",
              "        const element = document.querySelector('#df-c9aa4175-86f1-412f-8457-0c1640280026');\n",
              "        const dataTable =\n",
              "          await google.colab.kernel.invokeFunction('convertToInteractive',\n",
              "                                                    [key], {});\n",
              "        if (!dataTable) return;\n",
              "\n",
              "        const docLinkHtml = 'Like what you see? Visit the ' +\n",
              "          '<a target=\"_blank\" href=https://colab.research.google.com/notebooks/data_table.ipynb>data table notebook</a>'\n",
              "          + ' to learn more about interactive tables.';\n",
              "        element.innerHTML = '';\n",
              "        dataTable['output_type'] = 'display_data';\n",
              "        await google.colab.output.renderOutput(dataTable, element);\n",
              "        const docLink = document.createElement('div');\n",
              "        docLink.innerHTML = docLinkHtml;\n",
              "        element.appendChild(docLink);\n",
              "      }\n",
              "    </script>\n",
              "  </div>\n",
              "\n",
              "\n",
              "<div id=\"df-ba9ce8e4-4a79-4d53-b771-3f6b297551bd\">\n",
              "  <button class=\"colab-df-quickchart\" onclick=\"quickchart('df-ba9ce8e4-4a79-4d53-b771-3f6b297551bd')\"\n",
              "            title=\"Suggest charts\"\n",
              "            style=\"display:none;\">\n",
              "\n",
              "<svg xmlns=\"http://www.w3.org/2000/svg\" height=\"24px\"viewBox=\"0 0 24 24\"\n",
              "     width=\"24px\">\n",
              "    <g>\n",
              "        <path d=\"M19 3H5c-1.1 0-2 .9-2 2v14c0 1.1.9 2 2 2h14c1.1 0 2-.9 2-2V5c0-1.1-.9-2-2-2zM9 17H7v-7h2v7zm4 0h-2V7h2v10zm4 0h-2v-4h2v4z\"/>\n",
              "    </g>\n",
              "</svg>\n",
              "  </button>\n",
              "\n",
              "<style>\n",
              "  .colab-df-quickchart {\n",
              "      --bg-color: #E8F0FE;\n",
              "      --fill-color: #1967D2;\n",
              "      --hover-bg-color: #E2EBFA;\n",
              "      --hover-fill-color: #174EA6;\n",
              "      --disabled-fill-color: #AAA;\n",
              "      --disabled-bg-color: #DDD;\n",
              "  }\n",
              "\n",
              "  [theme=dark] .colab-df-quickchart {\n",
              "      --bg-color: #3B4455;\n",
              "      --fill-color: #D2E3FC;\n",
              "      --hover-bg-color: #434B5C;\n",
              "      --hover-fill-color: #FFFFFF;\n",
              "      --disabled-bg-color: #3B4455;\n",
              "      --disabled-fill-color: #666;\n",
              "  }\n",
              "\n",
              "  .colab-df-quickchart {\n",
              "    background-color: var(--bg-color);\n",
              "    border: none;\n",
              "    border-radius: 50%;\n",
              "    cursor: pointer;\n",
              "    display: none;\n",
              "    fill: var(--fill-color);\n",
              "    height: 32px;\n",
              "    padding: 0;\n",
              "    width: 32px;\n",
              "  }\n",
              "\n",
              "  .colab-df-quickchart:hover {\n",
              "    background-color: var(--hover-bg-color);\n",
              "    box-shadow: 0 1px 2px rgba(60, 64, 67, 0.3), 0 1px 3px 1px rgba(60, 64, 67, 0.15);\n",
              "    fill: var(--button-hover-fill-color);\n",
              "  }\n",
              "\n",
              "  .colab-df-quickchart-complete:disabled,\n",
              "  .colab-df-quickchart-complete:disabled:hover {\n",
              "    background-color: var(--disabled-bg-color);\n",
              "    fill: var(--disabled-fill-color);\n",
              "    box-shadow: none;\n",
              "  }\n",
              "\n",
              "  .colab-df-spinner {\n",
              "    border: 2px solid var(--fill-color);\n",
              "    border-color: transparent;\n",
              "    border-bottom-color: var(--fill-color);\n",
              "    animation:\n",
              "      spin 1s steps(1) infinite;\n",
              "  }\n",
              "\n",
              "  @keyframes spin {\n",
              "    0% {\n",
              "      border-color: transparent;\n",
              "      border-bottom-color: var(--fill-color);\n",
              "      border-left-color: var(--fill-color);\n",
              "    }\n",
              "    20% {\n",
              "      border-color: transparent;\n",
              "      border-left-color: var(--fill-color);\n",
              "      border-top-color: var(--fill-color);\n",
              "    }\n",
              "    30% {\n",
              "      border-color: transparent;\n",
              "      border-left-color: var(--fill-color);\n",
              "      border-top-color: var(--fill-color);\n",
              "      border-right-color: var(--fill-color);\n",
              "    }\n",
              "    40% {\n",
              "      border-color: transparent;\n",
              "      border-right-color: var(--fill-color);\n",
              "      border-top-color: var(--fill-color);\n",
              "    }\n",
              "    60% {\n",
              "      border-color: transparent;\n",
              "      border-right-color: var(--fill-color);\n",
              "    }\n",
              "    80% {\n",
              "      border-color: transparent;\n",
              "      border-right-color: var(--fill-color);\n",
              "      border-bottom-color: var(--fill-color);\n",
              "    }\n",
              "    90% {\n",
              "      border-color: transparent;\n",
              "      border-bottom-color: var(--fill-color);\n",
              "    }\n",
              "  }\n",
              "</style>\n",
              "\n",
              "  <script>\n",
              "    async function quickchart(key) {\n",
              "      const quickchartButtonEl =\n",
              "        document.querySelector('#' + key + ' button');\n",
              "      quickchartButtonEl.disabled = true;  // To prevent multiple clicks.\n",
              "      quickchartButtonEl.classList.add('colab-df-spinner');\n",
              "      try {\n",
              "        const charts = await google.colab.kernel.invokeFunction(\n",
              "            'suggestCharts', [key], {});\n",
              "      } catch (error) {\n",
              "        console.error('Error during call to suggestCharts:', error);\n",
              "      }\n",
              "      quickchartButtonEl.classList.remove('colab-df-spinner');\n",
              "      quickchartButtonEl.classList.add('colab-df-quickchart-complete');\n",
              "    }\n",
              "    (() => {\n",
              "      let quickchartButtonEl =\n",
              "        document.querySelector('#df-ba9ce8e4-4a79-4d53-b771-3f6b297551bd button');\n",
              "      quickchartButtonEl.style.display =\n",
              "        google.colab.kernel.accessAllowed ? 'block' : 'none';\n",
              "    })();\n",
              "  </script>\n",
              "</div>\n",
              "\n",
              "    </div>\n",
              "  </div>\n"
            ],
            "application/vnd.google.colaboratory.intrinsic+json": {
              "type": "dataframe",
              "variable_name": "df",
              "summary": "{\n  \"name\": \"df\",\n  \"rows\": 15134,\n  \"fields\": [\n    {\n      \"column\": \"id\",\n      \"properties\": {\n        \"dtype\": \"string\",\n        \"num_unique_values\": 15134,\n        \"samples\": [\n          \"566\",\n          \"10650\",\n          \"7660\"\n        ],\n        \"semantic_type\": \"\",\n        \"description\": \"\"\n      }\n    },\n    {\n      \"column\": \"title\",\n      \"properties\": {\n        \"dtype\": \"string\",\n        \"num_unique_values\": 14491,\n        \"samples\": [\n          \"What Was the Halloween Death Smog Disaster? And Other Scary Questions and Answers About Fluoridation\",\n          \"You Are Being Programmed to Hate\",\n          \"BBC Targets Kids with Fake \\u2019Islam Means Peace\\u2019 Claim Following Finsbury Park Attack\"\n        ],\n        \"semantic_type\": \"\",\n        \"description\": \"\"\n      }\n    },\n    {\n      \"column\": \"author\",\n      \"properties\": {\n        \"dtype\": \"category\",\n        \"num_unique_values\": 3439,\n        \"samples\": [\n          \"Damon Darlin\",\n          \"Doug Shelp\",\n          \"\\u0412\\u043b\\u0430\\u0434\\u0430 \\u041a\\u0440\\u0443\\u0442\\u043e\\u0432\\u0430\"\n        ],\n        \"semantic_type\": \"\",\n        \"description\": \"\"\n      }\n    },\n    {\n      \"column\": \"text\",\n      \"properties\": {\n        \"dtype\": \"string\",\n        \"num_unique_values\": 14851,\n        \"samples\": [\n          \"Home / Be The Change / Government Corruption / Leaked Audio Catches Clinton Red-Handed Talking About Rigging Elections Leaked Audio Catches Clinton Red-Handed Talking About Rigging Elections The Free Thought Project October 29, 2016 2 Comments \\nDecade-old audio exposes then-Senator Hillary Clinton saying the US should have manipulated Palestinian parliamentary elections in 2006 to prevent a Hamas victory. The presidential candidate lamented that the US didn\\u2019t \\u201cdetermine who was going to win.\\u201d \\n\\u201cI do not think we should have pushed for an election in the Palestinian territories. I think that was a big mistake,\\u201d then-New York Senator Clinton told the Jewish Press, a New York-based weekly newspaper, several months after the January election. \\n\\u201cAnd if we were going to push for an election, then we should have made sure that we did something to determine who was going to win,\\u201d she said. \\nUntil Friday, the comment Clinton made on September 5, 2006, only existed on a private audio cassette belonging to journalist Eli Chomsky. An editor and a staff writer for the Jewish Press, he interviewed Clinton at the newspaper\\u2019s office in Brooklyn. \\nChomsky, who shared and played the tape for the Observer, says it is the only existing copy of that meeting with Clinton, during which the Palestinian parliamentary election was among top topics. The comments have been posted on SoundCloud. \\nSpeaking to the news portal, he recalled being confused by the fact that \\u201canyone could support the idea \\u2014 offered by a national political leader, no less \\u2014 that the US should be in the business of fixing foreign elections.\\u201d 2006 audio emerges of Clinton proposing election rigging in Palestine; censored by Israeli press for past 10 years https://t.co/LsMYcUzJR4 \\n\\u2014 WikiLeaks (@wikileaks) October 28, 2016 \\nThe interview took place nine months after the Hamas movement claimed 76 of the 132 parliamentary seats, pushing aside the US-favored Fatah movement and securing the right to form a new cabinet. That victory was neither welcomed in Israel, nor in the US. In Washington, where Hamas is considered a terrorist organization, officials repeatedly stated that they would not work with a Palestinian Authority that included Hamas. \\nThen-President George W. Bush spoke of the elections as symbolizing the \\u201cpower of democracy,\\u201d but refused to deal with Hamas as long as it opposed Israel\\u2019s existence and espoused violence. \\nThat day in September 2006, Clinton made \\u201codd and controversial comments,\\u201d all now saved on the 45-minute record that Chomsky \\u201cheld onto all these years.\\u201d \\n\\u201cI went to my bosses at the time,\\u201d Chomsky told the Observer. \\u201cThe Jewish Press had this mindset that they would not want to say anything offensive about anybody \\u2014 even a direct quote from anyone \\u2014 in a position of influence because they might need them down the road. My bosses didn\\u2019t think it was newsworthy at the time. I was convinced that it was and I held onto it all these years.\\u201d Share\",\n          \"Tony Rosato, who was a cast member of the sketch shows \\u201cSaturday Night Live\\u201d and \\u201cSCTV\\u201d in the 1980s, but whose career ground to a halt when mental illness led to his incarceration in the 2000s, died on Tuesday at his home in Toronto. He was 62. His death was confirmed by his agent Ryan Goldhar, who said the cause had not been confirmed but appeared to be a heart attack. Mr. Rosato, an energetic actor and madcap impressionist, got his start with the Toronto company of the Second City improvisational troupe. In 1977 he became a performer and writer for \\u201cSCTV\\u201d (originally titled \\u201cSecond City Television\\u201d) whose cast over the years would also feature Martin Short, John Candy, Catherine O\\u2019Hara and Rick Moranis. Mr. Rosato\\u2019s signature \\u201cSCTV\\u201d character was Marcello, a clumsy and frequently soused   host. In 1981, Mr. Rosato and his \\u201cSCTV\\u201d colleague Robin Duke moved to \\u201cSaturday Night Live,\\u201d joining a cast headed by Eddie Murphy and Joe Piscopo. He did not make much of an impression and left \\u201cS. N. L. \\u201d after only one season. He later played recurring roles on the Canadian police drama \\u201cNight Heat\\u201d and did   work on cartoon shows. He worked steadily until the  . But then he began to unravel. In 2005 Mr. Rosato\\u2019s wife, Leah, left him and took their young daughter, citing his increasingly erratic behavior. He contacted the police that spring, claiming that his daughter had been abused and, later, that his family had been replaced by  . On May 5 he went to a police station to file a missing persons report about his family and was arrested and charged with criminal harassment. Mr. Rosato, who refused to acknowledge his mental illness, did not plead guilty and spent the next two years in a   facility awaiting trial. News media reports attributed the gap between Mr. Rosato\\u2019s arrest and trial to a combination of his intractability and the punitive approach of the Canadian authorities. \\u201cTony Rosato will have spent more time in custody on a harassment charge than any other convicted prisoner in Canada has ever spent on the same charges,\\u201d his lawyer, Daniel Brodsky, told The Toronto Star before his trial finally began in 2007. A judge found Mr. Rosato guilty of criminal harassment that September. He was remanded to a psychiatric hospital, where he was found to have Capgras syndrome, a rare mental illness characterized by the delusion that loved ones have been replaced by impostors. At the hospital, he was required for the first time to take antipsychotic medication, and his delusions eventually abated. Mr. Rosato was released in 2009 and soon returned to work. He told The Toronto Star that he was thrilled to be free but that recovering from his ordeal would take time. \\u201cFour years being inside is very hard on the spirit,\\u201d he said. Antonio Rosato was born on Dec. 26, 1954, in Naples, Italy. He moved to Canada with his family when he was a boy and became a naturalized citizen in 1966. After graduating from Oakwood Collegiate Institute in Toronto, he began studying chiropractic medicine at the University of Toronto but dropped out to become a performer. Mr. Rosato\\u2019s marriage ended in divorce. He is survived by his daughter, Giulietta Rosato.\",\n          \"\\nWill the 2016 election be rigged?\\nThat depends on what the definition of \\u201cis\\u201d is \\u2013 and whether or not you count blatant media bias, operatives and instigators, shady quasi-voters, bizarre electronic voting \\u201cerrors\\u201d and a heavy-handed advantage in the electoral college and the shifting demographics of a socialist state that promises much to certain groups.\\nWith the GOP leadership turning its back on Trump, and the Democratic machine dedicated solely to providing for Her, it will be a difficult win for Trump, despite overwhelming enthusiasm at rallies across the entire country and lop-sided pro-Trump crowds that literally dwarf pro-Hillary gatherings of very few.\\nBut as most everyone knows by now, it isn\\u2019t the popular vote that counts \\u2013 but only the delegates awarded state-by-state to the electoral college\\u2026 and that is a game that Hillary\\u2019s operatives are very good at playing.\\nThere are several states that are being surprisingly maneuvered for her advantage\\u2026 and if successful, will block Trump from even coming close the presidency.\\nTexas Could Turn \\u201cBlue\\u201d For the First Time In 20 Years\\nThis is the big enchilada, so to speak. For the first time in many decades, Texas is in play for Hillary and the Democrats. Texas has been as solidly \\u201cred\\u201d as any state in the union, but 2016 could be different.\\nWith 38 electoral votes, the Lone Star State is the biggest prize on the map next to California, whose 55 electoral votes have gone to the Democrats since before history began. Since at least 2008, the Dems have been massaging their electioneering strategy to capitalize on shifting demographics \\u2013 with plenty of Hispanics in the next generation of voters. On paper, Hillary should be able to play well to Hispanics with all the controversy over Trump\\u2019s immigration stances and talk of a border wall. Rumors of illegal immigrants be encouraged to vote could be a crucial factor, with polls in Texas close to neck and neck\\u2026 it could go either way.\\n\\nOf course, there is every reason to think that Team Hillary is not taking any chances.\\nAs Michael Snyder and many others have reported , electronic voting machines have been mysteriously flipping votes for Hillary in several counties in Texas\\u2026 and that doesn\\u2019t bode well for a massive electoral prize that is within range for her campaign:\\nEarly voting has already begun in many states, and a number of voters in Texas are reporting that the voting machines switched their votes from Donald Trump to Hillary Clinton. The odd thing is that none of the other choices were affected when these individuals attempted to vote for a straight Republican ticket. If Hillary Clinton is declared the winner of the state of Texas on election night, a full investigation of these voting machines should be conducted, because there is no way that Donald Trump should lose that state. I have said that it will be the greatest miracle in U.S. political history if Donald Trump wins this election, but without the state of Texas Donald Trump has exactly zero chance of winning.\\nAt least one county is making an emergency switch to paper ballots after irregularities were found with the electronic machines during early voting.\\nMeanwhile, Infowars confronted the head of Texas\\u2019 elections about his decision to violate voter laws and abandon a manual count of a random sampling of 1-3% of votes (which should theoretically reflect the larger voting trend, unless something is fishy). Without that count, there is less accountability than ever:\\n\\nThis is major issue, and Texas isn\\u2019t the only state\\u2026 just the biggest.\\n2. Utah\\u2019s Independent Republican Could Actually Beat Trump \\nOK, so Utah only has a grand total of 6 electoral college votes\\u2026 and has never been a decisive swing state in a presidential election. But that is because the state has been so solidly \\u201cred.\\u201d However, this election is totally different.\\nA little known independent candidate named Evan McMullin has actually taken the lead in several recent polls in Utah, and is neck-and-neck with both Trump and Hillary in several other polls (at or around 30% apiece). Libertarian Gary Johnson is also playing (relatively) well at about 5% \\u2013 possibly enough to swing further momentum away form Trump.\\nBut Evan McMullin is the real surprise hit \\u2013 in a state that is suddenly considered an important battleground in the election.\\n\\nMcMullin is a Mormon, which gives him a significant boost. He is officially tied to Better for America, which is basically a #NeverTrump operation \\u2013 backed by neocons like William Kristol. Perhaps unsurprisingly, Evan McMullin has a pretty colorful and telling background : on top of being a former policy director for House Republicans, he\\u2019s also a former CIA operations officer; a member of the elite think tank Council on Foreign Relations (CFR); a former Goldman Sachs investment banker and a volunteer refugee resettlement officer for the United Nations High Commissioner for Refugees in Jordan.\\nWow! I wonder if there could be an agenda there. Hillary probably won\\u2019t win Utah, but Trump may not either \\u2013 and it could make a crucial difference if he is within striking distance of 270 electoral votes.\\n3. Florida Is a Must Win Swing State for Trump\\u2026 But Current Polls Show Possible Hillary Win \\nOh boy\\u2026 Florida all over again. With 29 electoral votes, it remains a major contender that is so often on the fence and swinging in the wind. It is considered essential for a Trump victory, and indeed for just about any successful Republican bid for the presidency.\\nSure, we all know the polls are rigged, and may be oversampling Dems to look better for Hillary on paper \\u2013 but nonetheless, that perception drives expectations.\\nIf She can create a convincing win there, it could change the course of the election once again. Florida has consistently been the closest outcome \\u2013 in 2008 and 2012 it went blue for Obama; in 2000 and 2004 it went red for Bush (and not without major controversy and some very shady recounting).\\nHer team is pushing heavily for early voting in Florida, and so far they claim an early voting advantage.\\nBut campaign surrogate Roger Stone is now reporting that Hillary has met secretly with Broward County officials in Florida, and there is speculation that problems with the voting machines may soon be happening all over again.\\n\\nPay very close to what happens there, because of course, Florida could be THE deciding state (again). Right now polls are within 2 points , currently in favor of Trump by a very narrow margin.\\n4. Colorado Has Known Voting Fraud Issues \\u2013 With Dead People on the Voter Rolls \\nWith 9 electoral votes, Colorado is currently swinging \\u201cblue\\u201d but could go either way. CBS4 and the Washington Times reported that an investigation was started by Colorado\\u2019s Secretary of State after multiple examples were found of deceased people registered and in the voter rolls:\\n\\u201cThis is the kind of thing you hear rumored, joked about in Chicago, that kind of thing,\\u201d Mr. Maasssaid during a Thursday evening broadcast. \\u201cTonight, that changes. We did find voter fraud in Colorado that essentially waters down your vote.\\u201d \\n[\\u2026] \\n\\u201cThis is the kind of thing you hear rumored, joked about in Chicago, that kind of thing,\\u201d Mr. Maasssaid during a Thursday evening broadcast. \\u201cTonight, that changes. We did find voter fraud in Colorado that essentially waters down your vote.\\u201d \\nIt\\u2019s not clear whether or not Colorado could make a difference in the outcome, but the results could prove suspect.\\n5. Hillary Is \\u201cLeading\\u201d In These Key Swing States \\nWhile Trump is expected to win the crucial state of Ohio, and also North Carolina, Hillary is projected to take key states including Pennsylvania, Colorado, Iowa, Virginia and Arizona.\\nAccording to the Washington Post :\\nif Clinton can hold Virginia, Pennsylvania, and Colorado, then she only needs one more out of many swing states \\u2014 New Hampshire, Nevada, Ohio, Iowa, North Carolina, or Florida \\u2014 barring any surprise Trump win in a blue-leaning state like Wisconsin. That is currently looking very plausible. \\nWhile any of these could change in the actual outcome, it shows that Hillary has definitely maneuvered to win where it counts \\u2013 not with the people, but with the electoral college.\\nThe details are too numerous to follow here, and anything could happen.\\n6. You Know Voter Fraud Is Happening If the Media Claim It Isn\\u2019t \\nWhat should be very telling to everyone is how loudly the major media \\u2013 in concert \\u2013 are trying to debunk Trump\\u2019s claims of voter fraud and insist that all is well when it is quite clear that there are major issues.\\n\\nThis is one claim that the system is very afraid of, because quite frankly, they have a great deal to hide.\\nThere is more reason than ever for accountability, reporting on any irregularities and an insistence that the will of the people be respected \\u2013 because the system is desperate to hold onto control at any cost.\\nRead more: \\nElectronic Voting Machines Caught Switching Trump Votes To Hillary: \\u201cTrying to Steal Texas\\u201d \\nTrump Resists Pledge To \\u201cAbsolutely Accept\\u201d Election Results\\u2026 But Why Should Anyone Accept Fraud? \\nUnrest and Martial Law? Leaked Military Drill Anticipates \\u201cNo Rule of Law\\u201d After Election Results \\nTrump Resists Pledge To \\u201cAbsolutely Accept\\u201d Election Results\\u2026 But Why Should Anyone Accept Fraud? \\nIf Trump Wins, Will Obama Declare Martial Law To Remain In Office? \\u201cThese Are Not Normal Times\\u201d \\nAfter Bernie Cheated By DNC, Trump Fears \\u201cElection Going To Be Rigged\\u201d \\n\"\n        ],\n        \"semantic_type\": \"\",\n        \"description\": \"\"\n      }\n    },\n    {\n      \"column\": \"label\",\n      \"properties\": {\n        \"dtype\": \"number\",\n        \"std\": 0.5000164673916516,\n        \"min\": 0.0,\n        \"max\": 1.0,\n        \"num_unique_values\": 2,\n        \"samples\": [\n          0.0,\n          1.0\n        ],\n        \"semantic_type\": \"\",\n        \"description\": \"\"\n      }\n    }\n  ]\n}"
            }
          },
          "metadata": {},
          "execution_count": 5
        }
      ]
    },
    {
      "cell_type": "code",
      "source": [
        "df.isnull().sum()"
      ],
      "metadata": {
        "colab": {
          "base_uri": "https://localhost:8080/"
        },
        "id": "wdX4_tL3BYTB",
        "outputId": "a42bbe84-a211-413e-b71c-965c4df7bf41"
      },
      "execution_count": null,
      "outputs": [
        {
          "output_type": "execute_result",
          "data": {
            "text/plain": [
              "id           0\n",
              "title      403\n",
              "author    1445\n",
              "text        48\n",
              "label       16\n",
              "dtype: int64"
            ]
          },
          "metadata": {},
          "execution_count": 6
        }
      ]
    },
    {
      "cell_type": "code",
      "source": [
        "df.shape"
      ],
      "metadata": {
        "colab": {
          "base_uri": "https://localhost:8080/"
        },
        "id": "VdxR_aGbBbix",
        "outputId": "fd4edc8d-0879-4a4b-a07f-fc923b5c953f"
      },
      "execution_count": null,
      "outputs": [
        {
          "output_type": "execute_result",
          "data": {
            "text/plain": [
              "(15134, 5)"
            ]
          },
          "metadata": {},
          "execution_count": 7
        }
      ]
    },
    {
      "cell_type": "code",
      "source": [
        "df.dropna()"
      ],
      "metadata": {
        "colab": {
          "base_uri": "https://localhost:8080/",
          "height": 823
        },
        "id": "_wVjxd_yBd1-",
        "outputId": "96ae62bb-17e3-4cc7-9154-6c83582ed441"
      },
      "execution_count": null,
      "outputs": [
        {
          "output_type": "execute_result",
          "data": {
            "text/plain": [
              "          id                                              title  \\\n",
              "0          0  House Dem Aide: We Didn’t Even See Comey’s Let...   \n",
              "1          1  FLYNN: Hillary Clinton, Big Woman on Campus - ...   \n",
              "2          2                  Why the Truth Might Get You Fired   \n",
              "3          3  15 Civilians Killed In Single US Airstrike Hav...   \n",
              "4          4  Iranian woman jailed for fictional unpublished...   \n",
              "...      ...                                                ...   \n",
              "15129  15114  Donald Trump Says Drugs Are ‘Big Factor’ in Ur...   \n",
              "15130  15115  Mitch McConnell, Paul Ryan Meet with Donald Tr...   \n",
              "15131  15116  Susan Rice, Ex-Obama Adviser, Is Back in Polit...   \n",
              "15132  15117  The Fix Is In: NBC Affiliate Accidentally Post...   \n",
              "15133  15118  Original unreleased transcript of Sonia Gandhi...   \n",
              "\n",
              "                    author                                               text  \\\n",
              "0            Darrell Lucus  House Dem Aide: We Didn’t Even See Comey’s Let...   \n",
              "1          Daniel J. Flynn  Ever get the feeling your life circles the rou...   \n",
              "2       Consortiumnews.com  Why the Truth Might Get You Fired October 29, ...   \n",
              "3          Jessica Purkiss  Videos 15 Civilians Killed In Single US Airstr...   \n",
              "4           Howard Portnoy  Print \\nAn Iranian woman has been sentenced to...   \n",
              "...                    ...                                                ...   \n",
              "15129        Ashley Parker  PITTSBURGH  —   Donald J. Trump said Thursday ...   \n",
              "15130     Charlie Spiering  House Speaker Paul Ryan and Senate Majority Le...   \n",
              "15131          Peter Baker  WASHINGTON  —   She has been here before. Afte...   \n",
              "15132        PatriotRising  Posted 11/03/2016 12:44 am by PatriotRising wi...   \n",
              "15133  Suresh Subrahmanyan  Original unreleased transcript of Sonia Gandhi...   \n",
              "\n",
              "       label  \n",
              "0        1.0  \n",
              "1        0.0  \n",
              "2        1.0  \n",
              "3        1.0  \n",
              "4        1.0  \n",
              "...      ...  \n",
              "15129    0.0  \n",
              "15130    0.0  \n",
              "15131    0.0  \n",
              "15132    1.0  \n",
              "15133    1.0  \n",
              "\n",
              "[13288 rows x 5 columns]"
            ],
            "text/html": [
              "\n",
              "  <div id=\"df-2521d53f-9f81-4c89-beb2-e822bb8c2bbc\" class=\"colab-df-container\">\n",
              "    <div>\n",
              "<style scoped>\n",
              "    .dataframe tbody tr th:only-of-type {\n",
              "        vertical-align: middle;\n",
              "    }\n",
              "\n",
              "    .dataframe tbody tr th {\n",
              "        vertical-align: top;\n",
              "    }\n",
              "\n",
              "    .dataframe thead th {\n",
              "        text-align: right;\n",
              "    }\n",
              "</style>\n",
              "<table border=\"1\" class=\"dataframe\">\n",
              "  <thead>\n",
              "    <tr style=\"text-align: right;\">\n",
              "      <th></th>\n",
              "      <th>id</th>\n",
              "      <th>title</th>\n",
              "      <th>author</th>\n",
              "      <th>text</th>\n",
              "      <th>label</th>\n",
              "    </tr>\n",
              "  </thead>\n",
              "  <tbody>\n",
              "    <tr>\n",
              "      <th>0</th>\n",
              "      <td>0</td>\n",
              "      <td>House Dem Aide: We Didn’t Even See Comey’s Let...</td>\n",
              "      <td>Darrell Lucus</td>\n",
              "      <td>House Dem Aide: We Didn’t Even See Comey’s Let...</td>\n",
              "      <td>1.0</td>\n",
              "    </tr>\n",
              "    <tr>\n",
              "      <th>1</th>\n",
              "      <td>1</td>\n",
              "      <td>FLYNN: Hillary Clinton, Big Woman on Campus - ...</td>\n",
              "      <td>Daniel J. Flynn</td>\n",
              "      <td>Ever get the feeling your life circles the rou...</td>\n",
              "      <td>0.0</td>\n",
              "    </tr>\n",
              "    <tr>\n",
              "      <th>2</th>\n",
              "      <td>2</td>\n",
              "      <td>Why the Truth Might Get You Fired</td>\n",
              "      <td>Consortiumnews.com</td>\n",
              "      <td>Why the Truth Might Get You Fired October 29, ...</td>\n",
              "      <td>1.0</td>\n",
              "    </tr>\n",
              "    <tr>\n",
              "      <th>3</th>\n",
              "      <td>3</td>\n",
              "      <td>15 Civilians Killed In Single US Airstrike Hav...</td>\n",
              "      <td>Jessica Purkiss</td>\n",
              "      <td>Videos 15 Civilians Killed In Single US Airstr...</td>\n",
              "      <td>1.0</td>\n",
              "    </tr>\n",
              "    <tr>\n",
              "      <th>4</th>\n",
              "      <td>4</td>\n",
              "      <td>Iranian woman jailed for fictional unpublished...</td>\n",
              "      <td>Howard Portnoy</td>\n",
              "      <td>Print \\nAn Iranian woman has been sentenced to...</td>\n",
              "      <td>1.0</td>\n",
              "    </tr>\n",
              "    <tr>\n",
              "      <th>...</th>\n",
              "      <td>...</td>\n",
              "      <td>...</td>\n",
              "      <td>...</td>\n",
              "      <td>...</td>\n",
              "      <td>...</td>\n",
              "    </tr>\n",
              "    <tr>\n",
              "      <th>15129</th>\n",
              "      <td>15114</td>\n",
              "      <td>Donald Trump Says Drugs Are ‘Big Factor’ in Ur...</td>\n",
              "      <td>Ashley Parker</td>\n",
              "      <td>PITTSBURGH  —   Donald J. Trump said Thursday ...</td>\n",
              "      <td>0.0</td>\n",
              "    </tr>\n",
              "    <tr>\n",
              "      <th>15130</th>\n",
              "      <td>15115</td>\n",
              "      <td>Mitch McConnell, Paul Ryan Meet with Donald Tr...</td>\n",
              "      <td>Charlie Spiering</td>\n",
              "      <td>House Speaker Paul Ryan and Senate Majority Le...</td>\n",
              "      <td>0.0</td>\n",
              "    </tr>\n",
              "    <tr>\n",
              "      <th>15131</th>\n",
              "      <td>15116</td>\n",
              "      <td>Susan Rice, Ex-Obama Adviser, Is Back in Polit...</td>\n",
              "      <td>Peter Baker</td>\n",
              "      <td>WASHINGTON  —   She has been here before. Afte...</td>\n",
              "      <td>0.0</td>\n",
              "    </tr>\n",
              "    <tr>\n",
              "      <th>15132</th>\n",
              "      <td>15117</td>\n",
              "      <td>The Fix Is In: NBC Affiliate Accidentally Post...</td>\n",
              "      <td>PatriotRising</td>\n",
              "      <td>Posted 11/03/2016 12:44 am by PatriotRising wi...</td>\n",
              "      <td>1.0</td>\n",
              "    </tr>\n",
              "    <tr>\n",
              "      <th>15133</th>\n",
              "      <td>15118</td>\n",
              "      <td>Original unreleased transcript of Sonia Gandhi...</td>\n",
              "      <td>Suresh Subrahmanyan</td>\n",
              "      <td>Original unreleased transcript of Sonia Gandhi...</td>\n",
              "      <td>1.0</td>\n",
              "    </tr>\n",
              "  </tbody>\n",
              "</table>\n",
              "<p>13288 rows × 5 columns</p>\n",
              "</div>\n",
              "    <div class=\"colab-df-buttons\">\n",
              "\n",
              "  <div class=\"colab-df-container\">\n",
              "    <button class=\"colab-df-convert\" onclick=\"convertToInteractive('df-2521d53f-9f81-4c89-beb2-e822bb8c2bbc')\"\n",
              "            title=\"Convert this dataframe to an interactive table.\"\n",
              "            style=\"display:none;\">\n",
              "\n",
              "  <svg xmlns=\"http://www.w3.org/2000/svg\" height=\"24px\" viewBox=\"0 -960 960 960\">\n",
              "    <path d=\"M120-120v-720h720v720H120Zm60-500h600v-160H180v160Zm220 220h160v-160H400v160Zm0 220h160v-160H400v160ZM180-400h160v-160H180v160Zm440 0h160v-160H620v160ZM180-180h160v-160H180v160Zm440 0h160v-160H620v160Z\"/>\n",
              "  </svg>\n",
              "    </button>\n",
              "\n",
              "  <style>\n",
              "    .colab-df-container {\n",
              "      display:flex;\n",
              "      gap: 12px;\n",
              "    }\n",
              "\n",
              "    .colab-df-convert {\n",
              "      background-color: #E8F0FE;\n",
              "      border: none;\n",
              "      border-radius: 50%;\n",
              "      cursor: pointer;\n",
              "      display: none;\n",
              "      fill: #1967D2;\n",
              "      height: 32px;\n",
              "      padding: 0 0 0 0;\n",
              "      width: 32px;\n",
              "    }\n",
              "\n",
              "    .colab-df-convert:hover {\n",
              "      background-color: #E2EBFA;\n",
              "      box-shadow: 0px 1px 2px rgba(60, 64, 67, 0.3), 0px 1px 3px 1px rgba(60, 64, 67, 0.15);\n",
              "      fill: #174EA6;\n",
              "    }\n",
              "\n",
              "    .colab-df-buttons div {\n",
              "      margin-bottom: 4px;\n",
              "    }\n",
              "\n",
              "    [theme=dark] .colab-df-convert {\n",
              "      background-color: #3B4455;\n",
              "      fill: #D2E3FC;\n",
              "    }\n",
              "\n",
              "    [theme=dark] .colab-df-convert:hover {\n",
              "      background-color: #434B5C;\n",
              "      box-shadow: 0px 1px 3px 1px rgba(0, 0, 0, 0.15);\n",
              "      filter: drop-shadow(0px 1px 2px rgba(0, 0, 0, 0.3));\n",
              "      fill: #FFFFFF;\n",
              "    }\n",
              "  </style>\n",
              "\n",
              "    <script>\n",
              "      const buttonEl =\n",
              "        document.querySelector('#df-2521d53f-9f81-4c89-beb2-e822bb8c2bbc button.colab-df-convert');\n",
              "      buttonEl.style.display =\n",
              "        google.colab.kernel.accessAllowed ? 'block' : 'none';\n",
              "\n",
              "      async function convertToInteractive(key) {\n",
              "        const element = document.querySelector('#df-2521d53f-9f81-4c89-beb2-e822bb8c2bbc');\n",
              "        const dataTable =\n",
              "          await google.colab.kernel.invokeFunction('convertToInteractive',\n",
              "                                                    [key], {});\n",
              "        if (!dataTable) return;\n",
              "\n",
              "        const docLinkHtml = 'Like what you see? Visit the ' +\n",
              "          '<a target=\"_blank\" href=https://colab.research.google.com/notebooks/data_table.ipynb>data table notebook</a>'\n",
              "          + ' to learn more about interactive tables.';\n",
              "        element.innerHTML = '';\n",
              "        dataTable['output_type'] = 'display_data';\n",
              "        await google.colab.output.renderOutput(dataTable, element);\n",
              "        const docLink = document.createElement('div');\n",
              "        docLink.innerHTML = docLinkHtml;\n",
              "        element.appendChild(docLink);\n",
              "      }\n",
              "    </script>\n",
              "  </div>\n",
              "\n",
              "\n",
              "<div id=\"df-ed71d3aa-7766-4da2-80e9-1d594740dfc1\">\n",
              "  <button class=\"colab-df-quickchart\" onclick=\"quickchart('df-ed71d3aa-7766-4da2-80e9-1d594740dfc1')\"\n",
              "            title=\"Suggest charts\"\n",
              "            style=\"display:none;\">\n",
              "\n",
              "<svg xmlns=\"http://www.w3.org/2000/svg\" height=\"24px\"viewBox=\"0 0 24 24\"\n",
              "     width=\"24px\">\n",
              "    <g>\n",
              "        <path d=\"M19 3H5c-1.1 0-2 .9-2 2v14c0 1.1.9 2 2 2h14c1.1 0 2-.9 2-2V5c0-1.1-.9-2-2-2zM9 17H7v-7h2v7zm4 0h-2V7h2v10zm4 0h-2v-4h2v4z\"/>\n",
              "    </g>\n",
              "</svg>\n",
              "  </button>\n",
              "\n",
              "<style>\n",
              "  .colab-df-quickchart {\n",
              "      --bg-color: #E8F0FE;\n",
              "      --fill-color: #1967D2;\n",
              "      --hover-bg-color: #E2EBFA;\n",
              "      --hover-fill-color: #174EA6;\n",
              "      --disabled-fill-color: #AAA;\n",
              "      --disabled-bg-color: #DDD;\n",
              "  }\n",
              "\n",
              "  [theme=dark] .colab-df-quickchart {\n",
              "      --bg-color: #3B4455;\n",
              "      --fill-color: #D2E3FC;\n",
              "      --hover-bg-color: #434B5C;\n",
              "      --hover-fill-color: #FFFFFF;\n",
              "      --disabled-bg-color: #3B4455;\n",
              "      --disabled-fill-color: #666;\n",
              "  }\n",
              "\n",
              "  .colab-df-quickchart {\n",
              "    background-color: var(--bg-color);\n",
              "    border: none;\n",
              "    border-radius: 50%;\n",
              "    cursor: pointer;\n",
              "    display: none;\n",
              "    fill: var(--fill-color);\n",
              "    height: 32px;\n",
              "    padding: 0;\n",
              "    width: 32px;\n",
              "  }\n",
              "\n",
              "  .colab-df-quickchart:hover {\n",
              "    background-color: var(--hover-bg-color);\n",
              "    box-shadow: 0 1px 2px rgba(60, 64, 67, 0.3), 0 1px 3px 1px rgba(60, 64, 67, 0.15);\n",
              "    fill: var(--button-hover-fill-color);\n",
              "  }\n",
              "\n",
              "  .colab-df-quickchart-complete:disabled,\n",
              "  .colab-df-quickchart-complete:disabled:hover {\n",
              "    background-color: var(--disabled-bg-color);\n",
              "    fill: var(--disabled-fill-color);\n",
              "    box-shadow: none;\n",
              "  }\n",
              "\n",
              "  .colab-df-spinner {\n",
              "    border: 2px solid var(--fill-color);\n",
              "    border-color: transparent;\n",
              "    border-bottom-color: var(--fill-color);\n",
              "    animation:\n",
              "      spin 1s steps(1) infinite;\n",
              "  }\n",
              "\n",
              "  @keyframes spin {\n",
              "    0% {\n",
              "      border-color: transparent;\n",
              "      border-bottom-color: var(--fill-color);\n",
              "      border-left-color: var(--fill-color);\n",
              "    }\n",
              "    20% {\n",
              "      border-color: transparent;\n",
              "      border-left-color: var(--fill-color);\n",
              "      border-top-color: var(--fill-color);\n",
              "    }\n",
              "    30% {\n",
              "      border-color: transparent;\n",
              "      border-left-color: var(--fill-color);\n",
              "      border-top-color: var(--fill-color);\n",
              "      border-right-color: var(--fill-color);\n",
              "    }\n",
              "    40% {\n",
              "      border-color: transparent;\n",
              "      border-right-color: var(--fill-color);\n",
              "      border-top-color: var(--fill-color);\n",
              "    }\n",
              "    60% {\n",
              "      border-color: transparent;\n",
              "      border-right-color: var(--fill-color);\n",
              "    }\n",
              "    80% {\n",
              "      border-color: transparent;\n",
              "      border-right-color: var(--fill-color);\n",
              "      border-bottom-color: var(--fill-color);\n",
              "    }\n",
              "    90% {\n",
              "      border-color: transparent;\n",
              "      border-bottom-color: var(--fill-color);\n",
              "    }\n",
              "  }\n",
              "</style>\n",
              "\n",
              "  <script>\n",
              "    async function quickchart(key) {\n",
              "      const quickchartButtonEl =\n",
              "        document.querySelector('#' + key + ' button');\n",
              "      quickchartButtonEl.disabled = true;  // To prevent multiple clicks.\n",
              "      quickchartButtonEl.classList.add('colab-df-spinner');\n",
              "      try {\n",
              "        const charts = await google.colab.kernel.invokeFunction(\n",
              "            'suggestCharts', [key], {});\n",
              "      } catch (error) {\n",
              "        console.error('Error during call to suggestCharts:', error);\n",
              "      }\n",
              "      quickchartButtonEl.classList.remove('colab-df-spinner');\n",
              "      quickchartButtonEl.classList.add('colab-df-quickchart-complete');\n",
              "    }\n",
              "    (() => {\n",
              "      let quickchartButtonEl =\n",
              "        document.querySelector('#df-ed71d3aa-7766-4da2-80e9-1d594740dfc1 button');\n",
              "      quickchartButtonEl.style.display =\n",
              "        google.colab.kernel.accessAllowed ? 'block' : 'none';\n",
              "    })();\n",
              "  </script>\n",
              "</div>\n",
              "\n",
              "    </div>\n",
              "  </div>\n"
            ],
            "application/vnd.google.colaboratory.intrinsic+json": {
              "type": "dataframe",
              "summary": "{\n  \"name\": \"df\",\n  \"rows\": 13288,\n  \"fields\": [\n    {\n      \"column\": \"id\",\n      \"properties\": {\n        \"dtype\": \"string\",\n        \"num_unique_values\": 13288,\n        \"samples\": [\n          \"2697\",\n          \"14916\",\n          \"4719\"\n        ],\n        \"semantic_type\": \"\",\n        \"description\": \"\"\n      }\n    },\n    {\n      \"column\": \"title\",\n      \"properties\": {\n        \"dtype\": \"string\",\n        \"num_unique_values\": 13089,\n        \"samples\": [\n          \"Kim Kardashian West and Kanye West Reignite Feud With Taylor Swift - The New York Times\",\n          \"Wolf Richter: Come on Moody\\u2019s, Spare Us These Falsehoods: That $1.3 Trillion \\u201cOverseas Cash\\u201d Is Already in the US\",\n          \"Trump OKs DACA Amnesty: \\u2019This Is a Case of Heart\\u2019 - Breitbart\"\n        ],\n        \"semantic_type\": \"\",\n        \"description\": \"\"\n      }\n    },\n    {\n      \"column\": \"author\",\n      \"properties\": {\n        \"dtype\": \"category\",\n        \"num_unique_values\": 3164,\n        \"samples\": [\n          \"Brandy Combs\",\n          \"Dr. Marsha Coleman-Adebayo\",\n          \"Paul Fassa\"\n        ],\n        \"semantic_type\": \"\",\n        \"description\": \"\"\n      }\n    },\n    {\n      \"column\": \"text\",\n      \"properties\": {\n        \"dtype\": \"string\",\n        \"num_unique_values\": 13112,\n        \"samples\": [\n          \"Africa , China , Hybrid Wars , United States By Andrew KORYBKO (USA) \\nThe most colonized and exploited continent in the history of the world is once more the center of global competition, albeit this time the form of rivalry between the Great Powers has taken on a much more nuanced, though no less intense, form. The US, France, and their unipolar allies want to retain Africa as their exclusive labor, market, and resource reserve for the foreseeable future, both out of their own material self-interest and with the added strategic benefit of depriving China and others of its economic fruits. Contrarily, China wants to integrate the world\\u2019s fastest growing economies and populations into the unfolding multipolar world order and give them a fair chance at succeeding in the global system. The contrast between the West\\u2019s neo-colonialism and China\\u2019s liberating sovereignty couldn\\u2019t be more crisp, and it\\u2019s this opposition of diametrically opposed global strategies and development models that sets the stage for the grand proxy battle between the US and China over Africa. \\nJust as much as China needs Africa in order to maintain its steady growth rates into the foreseeable future and ensure its domestic stability, so too does the US want to \\u2018poach\\u2019 Africa from China in order to offset the structural sustainability of its number one rival\\u2019s global leadership. The nature of the African-wide proxy conflict is that China is ardently working to finance, construct, and connect various infrastructural projects to one another in order to create a supraregional web of intermodal transport corridors that could then perfectly complement the maritime portion of the One Belt One Road (\\u201cNew Silk Road\\u201d) global vision, while the US is trying with equal fervor to seize control of key nodes along these transnational routes as well as strategically disrupt crucial portions in order to increase China\\u2019s dependence on the unipolar-influenced areas. As the ultimate last resort, however, the US, the \\u201cworld island\\u201d in all the manners that it can be strategically understood as, will pull out all the stops and unleash a \\u2018scorched earth\\u2019 trail of Hybrid War destruction in its wake while it strategically retreats back to its self-sufficient \\u201cFortress North America\\u201d as the final coup de grace in the African proxy war against China. \\nMore than likely, it won\\u2019t ever get to that dramatic of an absolute point whereby the US fully retreats from Africa or totally destroys the continent with Hybrid War, but realistically speaking, there\\u2019ll likely be a blended development of scenarios that takes place in this heated theater of competition over the coming decades that integrates elements of both extremes. China will predictably succeed in spearheading several ultra-strategic New Silk Road development corridors in Africa, while the US will probably sabotage a few others and unleash a handful of Hybrid Wars to keep the existing ways indefinitely at bay from fully actualizing their envisioned geo-economic potential. There\\u2019s no surefire way to know with absolutely certainty what the future will bring, but it\\u2019s possible to acquire an educated expectation about the structural and systemic manner in which the identified group of states will be targeted by US-provoked Hybrid Wars. Even accounting for the possibility that some of the forthcoming examined scenarios might be \\u201cnaturally occurring\\u201d in that they require little if any external pressure to instigate, there\\u2019s still a strong likelihood that at least some of the investigated possibilities will eventually occur to varying extents and that the geopolitical repercussions will indisputably impact quite negatively on China and the larger multipolar world\\u2019s grand position in the New Cold War. \\nThis section of the book is organized in such a manner that Part I will describe Africa\\u2019s overall geopolitical situation, highlighting the influence of hegemonic and institutional regionalism (sometimes overlapping, other times not) over the continent\\u2019s affairs in order to clearly illustrate the preexisting advantages and obstacles to China\\u2019s New Silk Road vision. The subsequent chapters of the African Hybrid War research will then comprehensively examine the five separate categories of states and their pertinent neighbors that the author has already identified as being relevantly incorporated into the immediate thesis. To remind the reader about what was described in Part III of the book\\u2019s Introduction and to expand upon the earlier presented paradigmatic map in a more structurally detailed manner, the following cartographic revision will be henceforth used as the point of reference in guiding the research beyond Part I: \\nKey \\n* Yellow \\u2013 East Africa/East African Federation \\n* Blue \\u2013 Central-Southern Africa \\n* Black \\u2013 Failed State Belt \\n* Red \\u2013 Lake Chad Region \\n* Hashed/Thatched Lines \\u2013 countries that will inevitably become involved in the targeted category states\\u2019 Hybrid War destabilization, whether as an aggressive actor, a passive victim, or a blended mix thereof. Schematic Observations \\nA few comments need to be stated about the above map before commencing Part I of the African Hybrid War research: \\nSouthern African Cone: \\nFirstly, while it\\u2019s conceptually possible for all states in Africa (or anywhere in the world, for that matter) to be afflicted by Hybrid War, keeping in accordance with the axiom that this method of warfare is more often than not applied in disrupting multipolar transnational connective infrastructure projects and/or seizing control of them, it can be surmised that the ones which could most radically revolutionize the continent\\u2019s geopolitical and geo-economic would be most actively targeted and consequently receive the highest likelihood of some sort of Hybrid War destabilization in the coming future. All of this will be described in detail in Part I, but for now it\\u2019s enough to know that the identified states lay along the paths of China\\u2019s presently constructed Silk Road routes or most probable forthcoming projects that it could pursue in achieving its grand strategic ends. \\nIt should be clarified at this point that the Southern African Cone was not included in the above model because its economic corridors are relatively well-established and have already been utilized for some time by all sorts of Great Powers, the West obviously included. Furthermore, concerning Namibia and Botswana\\u2019s global connectivity via South Africa, and to an extent, even Zimbabwe and Mozambique\\u2019s as well, this mostly deals with the one-way transport of natural resources and less so with each respective state\\u2019s labor and market potential. While each of these countries have a given role that they play vis-\\u00e0-vis the Chinese economy, none of them except for South Africa (the hub through which most of their exports, barring Mozambique\\u2019s, pass) is integral enough to be targeted by their own Hybrid War. \\nTheoretically speaking, disruptions in the regional periphery around South Africa could have a strategic effect in putting pressure on the country\\u2019s multipolar leadership and pave the way for a regime change scenario, but given the rotten nature of corrupt South African politics, it\\u2019s more expected that traditional \\u2018soft coup\\u2019 means such as constitutional technicalities and simple Color Revolutions (i.e. the anti-Rousseff coup in Brazil) would be used in this instance. Additionally, the resources of the population-sparse countries of Namibia and Botswana and the general market and labor potential of South Africa are already pretty much integrated into the larger global economy, so there are many existing unipolar stakeholders that would also be adversely affected by a severe disruption in or around their common point of African access. The same can\\u2019t be said so much about Zimbabwe and Mozambique, the former rich in minerals such as diamonds and platinum while the latter is poised to become one of the world\\u2019s largest LNG exporters, so it\\u2019s entirely possible that they may be targeted sometime in the future. But even so, it would be less in connection with China\\u2019s multipolar transnational connective infrastructure projects than with their own individual standalone potentials in their respective fields, thus strategically differentiating them from the other countries included in the present study (although that is not to say that Hybrid War techniques would not be used \\u2013 they probably would to a large extent). \\nInsular Importance: \\nIn relation to the above, the insular countries of Africa were also not included in the continental overview, although they too play an important role in its evolving geopolitical paradigm. Nevertheless, because they\\u2019re island nations, they\\u2019re not directly connected to anything else besides the high seas, so although they may have valuable transit node status for China as an integral component of its Sea Lines of Communication, they\\u2019re not as directly affected by the region-stretching Hybrid War study that was commenced for the mainland. Nevertheless, because each of them could play a pivotal role in influencing continental affairs if properly utilized by a partnering Great Power, it\\u2019s worthwhile to very concisely comment on how they fit into the larger strategic equation that will be described throughout this work: \\n* Yellow \\u2013 Canary Islands (Spain): This legacy holding allows Madrid to exert influence near the coasts of Morocco and Western Sahara, both thought to be rich with fish and possible energy resources. \\n* Green \\u2013 Cabo Verde (formerly Cape Verde prior to late-2013): The former Portuguese colony connects the North and South Atlantic and offers a strategic position near the mouth of the Senegal River, as well as being positioned along an important oceanic route that the US and EU must take to access West Africa. \\n* Blue \\u2013 S\\u00e3o Tom\\u00e9 and Pr\\u00edncipe: Another former Portuguese colony, this one is crucially located in the hydrocarbon-rich waters of the Gulf of Guinea and in close proximity to the shoreline of Africa\\u2019s largest economy, Nigeria. \\n* Violet \\u2013 Comoros and the French overseas department of Mayotte: These two locations are almost on top of northern Mozambique\\u2019s LNG-prospected Rovuma Basin and thus near what will likely become a major energy exporting area in the near future. \\n* Orange \\u2013 Seychelles: The former UK-colonized island chain lies along the route of approach that India and China must take in accessing the burgeoning East African marketplace, and it\\u2019s for this strategically competitive reason that New Delhi has proactively sought to build a naval base and position some of its military units there in order to \\u201ccontain\\u201d China. \\n* Unmarked \\u2013 Mauritius and the French island of Reunion: These two insular areas are not directly relevant to Africa\\u2019s mainland geopolitical order, although they do acquire significance vis-\\u00e0-vis Madagascar and the US-controlled Indian Ocean bastion of Diego Garcia. \\nTransregional Conflict Overspill: \\nOne of the most striking aspects of the reference map is that it clearly delineates the geopolitical fault lines where Hybrid War conflicts could easily become transregional: \\nOut of all of the areas designated by the map, it\\u2019s most probable that the uncontrollably violent processes in the Failed State Belt of the Central African Republic (CAR) and South Sudan would be the ones to spread to other parts of Africa, at least as regards the continent\\u2019s conflicts that are presently ongoing (and not accounting for those that have yet to possibly erupt). In particular, CAR\\u2019s chaos could result in a refugee and militant overspill to Cameroon and Chad, possibly leading to these respective Christian- and Muslim-led governments supporting their own confessional sides in the country\\u2019s unresolved civil war. The misleading \\u201cClash of Civilizations\\u201d narrative that would assuredly be purposely pushed by the Western mainstream media will be discussed later on when addressing the Failed State Belt, but at this moment it\\u2019s useful just to be aware of the transregional \\u201cinfection\\u201d potential that the CAR has in affecting the Lake Chad region. Additionally, the country\\u2019s domestic difficulties could also spread southward into the northern reaches of the Central-Southern state of the Democratic Republic of the Congo (DRC), representing a dual destabilization threat emanating from the CAR. \\nSouth Sudan can do something similar to the CAR in relation to the northern part of the DRC, but possibly even to the Horn of Africa state of Ethiopia and the East African state of Uganda as well. Tellingly, these latter two states are actively involved in the conflict resolution process in South Sudan and are jostling against one another for influence there in order to carve out defensive buffers (but also markets, of course) to protect themselves from this scenario. It should go without saying that South Sudan was only brought into existence because it was forcibly severed from Sudan proper over a three-decade-long civil war period, and the dynamic of anti-Khartoum action hasn\\u2019t stopped since Juba gained its independence in 2011. Therefore, South Sudan represents an even larger asymmetrical regional threat than CAR does, and their combined destabilization potential explains why they\\u2019re both categorized together as part of the Failed State Belt. \\nIf their respective conflicts somehow merged into a transnational conflagration, then that would represent a large-scale Hybrid War threat in the geographic heart of Africa, but the closest this has henceforth come has been the over-exaggerated threat of Joseph Kony. With reference to the Failed State Belt\\u2019s Hybrid War vulnerabilities and the transregionalization that its internal conflicts pose, it\\u2019s little wonder then that the US exploited the mystique around this warlord in order to deploy a limited but very strategic contingent of its special forces to Uganda, South Sudan, DRC, and CAR. Almost as an afterthought but drawing on the tangent of transregional conflict overlap, it\\u2019s topically pertinent to recall the Darfur Conflict and how this essentially was a proxy competition between the Lake Chad regional state of Chad and the extended Failed State Belt and somewhat Gulf-influenced state of Sudan. It\\u2019s no longer as relevant of a geopolitical item as it once was during the mid-2000s, but it nevertheless still has the potential to re-erupt in the future, especially if the externally directed Sudanese dissolution process speeds up and makes headway in the states of Blue Nile and South Kordofan. \\nLastly, there\\u2019s the realistic possibility that the US\\u2019 attempts to instigate a Hybrid War in Burundi could set off a chain reaction of destabilization in the eastern DRC, Rwanda (and by extent, possibly up to Uganda), and western Tanzania, thereby making this geographically tiny state a disproportionately large trigger in upsetting the regional balance. Although there\\u2019s not yet an active conflict in Burundi anywhere on par with the scale of what\\u2019s been raging in the CAR and South Sudan over the past couple of years, this doesn\\u2019t mean that one can\\u2019t quickly develop if the entire state collapses under Hybrid War pressure, and this disturbing scenario will certainly be explored more at length later on in the work. \\nMapping out the expected transregional conflict overspill zones in Africa, one can unmistakably see that it\\u2019s the entire Upper-Central (Failed State Belt) and the eastern portion of the Central-Southern zones of Africa that are most at risk of this destructive process unfolding. Accordingly, this realization leads one to conclude that the DRC and the areas immediately abutting it provide the most fertile ground for the transnationalization of domestic conflicts, which somewhat (but not totally) explains why the Second Congo War eventually came to involve states located far away from the actual battlespace and be nicknamed \\u201c Africa\\u2019s World War \\u201d. To put it another way, the Hybrid War vulnerabilities of the identified area combined with its obvious geostrategic centrality to the African continent makes it doubly capable of sucking countless states into a literal Black Hole of Chaos that could easily become the ultimate proxy war climax between the US and China. \\nTo be continued\\u2026 \\nAndrew Korybko is the American political commentator currently working for the Sputnik agency. He is the author of the monograph \\u201c Hybrid Wars: The Indirect Adaptive Approach To Regime Change \\u201d (2015). This text will be included into his forthcoming book on the theory of Hybrid Warfare. \\nPREVIOUS CHAPTERS:\",\n          \"Every entertainer likes to be subversive  \\u2014   to push the envelope and surprise their audience. At a time when Hollywood has made itself insufferable with its increasingly hysterical political commentary, Lady Gaga shocked the world simply by entertaining it. [Expectations were   before the Super Bowl LI halftime show what would Gaga  \\u2014   one of Hillary Clinton\\u2019s top celebrity supporters  \\u2014   say or do in this, the first halftime show of Donald Trump\\u2019s presidency? How could she possibly top Beyonc\\u00e9\\u2019s   tribute to the Black Panthers from last year\\u2019s game?  \\u201cThis performance is for everyone,\\u201d Gaga coyly told reporters in Houston on Saturday, refusing to divulge her plans. \\u201cI want to, more than anything, create a moment that everyone that\\u2019s watching will never forget. \\u201d Tantalizing stuff. And yet there was barely a whiff of partisan politics at all during the pop star\\u2019s entire   set, not even a requisite \\u201cResist,\\u201d or \\u201cLove trumps hate. \\u201d Opening with a   of \\u201cGod Bless America\\u201d and \\u201cThis Land Is Your Land\\u201d from the roof of NRG Stadium under a cloud of pulsating red, white and   drones, Gaga literally dove into the building and straight into a collection of her greatest hits: \\u201cPoker Face,\\u201d \\u201cJust Dance,\\u201d \\u201cBorn This Way,\\u201d \\u201cTelephone\\u201d and the grand finale of \\u201cBad Romance,\\u201d all delivered   (a rare feat given the amount of dancing she was doing) and reasonably well.  It was a mesmerizing performance, filled with the kind of expert showmanship that only very confident artists can pull off. It reminded me, if only slightly, of Prince\\u2019s pageantry and   2007 halftime show in Miami, in which the late artist, ever the consummate entertainer, ran through a collection of Bob Dylan and Tina Turner covers before hoisting his guitar high for a rousing rendition of \\u201cPurple Rain,\\u201d in the middle of an actual downpour. Gaga did her set, and then it was over. No raised fists, no inappropriate language, no threats, no protests. No hysteria. She walked off the field after an epic exit in which she dropped the mic, caught a football and dove offstage, and then that stage was reset for what was to become one of the greatest comebacks in the history of the NFL. It is not unlikely  \\u2014   given the current political and cultural climate in America  \\u2014   that Gaga considered going the protest statement route, and then decided against it. After all, it is now firmly established that the endless political grandstanding has gotten celebrities absolutely nowhere. It rarely ever feels authentic, especially coming from people who earn more money in an hour for flashing their ass on TV than most Americans will earn in a lifetime. And even when it does feel authentic, millions across the country are bound to disagree. Conservative media, including yours truly, have made a cottage industry of pointing out exactly how clueless and out of touch celebrities are when compared with ordinary people. Just ask Hillary Clinton and her celebrity army how the last election worked out for them. And consider Beyonc\\u00e9\\u2019s halftime show. For months afterward, the conversation was focused almost entirely on the blatant   enforcement message she preached from America\\u2019s biggest stage, and now, a year after the show and despite liberals\\u2019 claim that everybody loves Beyonc\\u00e9! half the country now hates Beyonc\\u00e9. Her show led police groups to boycott her concerts, even as she audaciously used a police escort to get to the game (and later cashed in on the   sentiment by offering her very own line of \\u201cBoycott Beyonc\\u00e9\\u201d merchandise at her tour stops). More division. More disconnection between law enforcement and the people they serve and protect. All in the name of \\u201clove\\u201d and \\u201ctolerance. \\u201d Or consider Madonna at last month\\u2019s Women\\u2019s March on Washington, where she casually suggested to the tens of thousands of activists in attendance that she had often thought of blowing up the White House. What did that do for us? Or Meryl Streep\\u2019s   speech about morality at the Oscars, as if Hollywood is somehow the great arbiter of moral behavior. The only thing Streep\\u2019s speech accomplished is that conservatives can no longer enjoy Kramer vs. Kramer in the same way again. The bottom line is this: the best way to unite more than 100 million Americans with wildly disparate political views is to refrain from making any political statements at all. That Lady Gaga was the one to buck the trend freaked out plenty of entertainment journalists and commentators. Could this be the same Gaga that hopped on a sanitation truck outside Trump Tower in the   hours of November 9, defiantly holding up a \\u201cLove Trumps Hate\\u201d sign in a show of silent protest? After the show, Los Angeles Times writer Mikael Wood wrote that the collection of hits Gaga played Sunday night \\u201csounded like objects of distraction, catchy baubles meant to entertain us in the absence of a broader message. \\u201d That sentiment was widely shared among Hollywood journalists, as a cursory look around the Internet revealed on Monday morning. Gaga missed her chance to say something useful, something revolutionary. This would have been The Moment, the chance to break through and show America just how stupid and wrong it was for electing Donald Trump president. Gaga would have found the key. To which I say: good grief. Pop songs are by definition catchy baubles meant to entertain us, and if Lady Gaga wanted to show off her maturity as an artist by performing a collection of her greatest hits (and converting some of the skeptics) then so be it. In the meantime, go masturbate to Meryl Streep\\u2019s acceptance speech and dream of better days.   Follow Daniel Nussbaum on Twitter: @dznussbaum\",\n          \"Here's something interesting from The Unz Review... Recipient Name Recipient Email => \\nI was born on July 20, 1944, the day of the failed officers\\u2019 plot against Adolf Hitler. That means I preceded the official dawning of the nuclear age by exactly 369 days, which makes me part of the last generation to do so. I\\u2019m speaking not of the obliteration of two Japanese cities by America\\u2019s new \\u201cwonder weapon\\u201d on August 6th and 9th, 1945, but of the Trinity test of the first atomic bomb in the New Mexican desert near Alamogordo on July 16th of that year. When physicist Robert Oppenheimer , the \\u201cfather of the atomic bomb,\\u201d witnessed that explosion, the line from the Hindu holy book, the Bhagavad Gita , that famously came into his head was: \\u201cI am become Death, the destroyer of worlds.\\u201d \\nHow apt it still remains more than seven decades later, at a moment when nine countries possess such weapons \\u2014 more than 15,000 of them \\u2014 in their arsenals, most of which are now staggeringly more destructive than that first devastating bomb, and as TomDispatch regular Michael Klare points out today, some of which are closer to possible use than at any point in at least a couple of decades. For those of us who lived through the years of bomb shelters, atomic movie monsters , the Cuban Missile Crisis (which left me, age 18, fearing I might be toast in the morning), the rise and fall of antinuclear movements, and nuclear nightmares of a sort I still remember vividly from my youth in a way I no longer recall the dreams of last night, it\\u2019s a horror to imagine that nuclear war is still with us; even more so, because, in Election 2016, we have a presidential candidate who is not only ignorant about those weapons in hard-to-believe ways, but who wonders why \\u201cwe can\\u2019t use them,\\u201d and who might months from now have his finger on that \\u201cnuclear button\\u201d (or rather command of the nuclear codes that could launch such a war). Don\\u2019t tell me that this isn\\u2019t a living nightmare of the first order. \\nI find it eerie in the extreme and unnervingly apt that the Clinton campaign has brought back a living icon of our nuclear fears, the little girl from the 1964 election who appeared in the famous (or infamous) \\u201c Daisy \\u201d ad President Lyndon Johnson ran against Republican contender Barry Goldwater (who, in retrospect, seems like the soul of stability compared with you know whom). She was then seen counting to 10 as she plucked petals off a daisy just before an ominous, echoing male voice began the countdown to an atomic explosion that filled the screen. Now, that girl, Monique Luiz , a grown woman, is shown saying , \\u201cThe fear of nuclear war we had as children, I never thought our children would ever have to deal with that again. And to see that coming forward in this election is really scary.\\u201d \\nShe\\u2019s now 55 years old and, however the Clinton campaign may be using her, there\\u2019s still something deeply unnerving for those of us who had hoped to outlast the nuclear age simply to see her there more than five decades later. And if you think that\\u2019s unnerving on the eve of the most bizarre presidential election in memory, then read today\\u2019s piece by Michael Klare and imagine just how unsettling, in nuclear terms, the years ahead may prove to be.\"\n        ],\n        \"semantic_type\": \"\",\n        \"description\": \"\"\n      }\n    },\n    {\n      \"column\": \"label\",\n      \"properties\": {\n        \"dtype\": \"number\",\n        \"std\": 0.49539971564929053,\n        \"min\": 0.0,\n        \"max\": 1.0,\n        \"num_unique_values\": 2,\n        \"samples\": [\n          0.0,\n          1.0\n        ],\n        \"semantic_type\": \"\",\n        \"description\": \"\"\n      }\n    }\n  ]\n}"
            }
          },
          "metadata": {},
          "execution_count": 8
        }
      ]
    },
    {
      "cell_type": "code",
      "source": [
        "df.shape"
      ],
      "metadata": {
        "colab": {
          "base_uri": "https://localhost:8080/"
        },
        "id": "bFnBSvR9Bg5J",
        "outputId": "c2a35907-a68d-42cb-956c-8a7ecebefcf5"
      },
      "execution_count": null,
      "outputs": [
        {
          "output_type": "execute_result",
          "data": {
            "text/plain": [
              "(15134, 5)"
            ]
          },
          "metadata": {},
          "execution_count": 9
        }
      ]
    },
    {
      "cell_type": "code",
      "source": [
        "df = df.dropna().reset_index(drop=True)\n",
        "df = df[pd.to_numeric(df['label'], errors='coerce').notnull()]\n",
        "df['label']=df['label'].astype(int)"
      ],
      "metadata": {
        "id": "Phz16D3MBlk8"
      },
      "execution_count": null,
      "outputs": []
    },
    {
      "cell_type": "code",
      "source": [
        "## get independent features\n",
        "X=df.drop('label',axis=1)"
      ],
      "metadata": {
        "id": "lW-PoyA0B2z9"
      },
      "execution_count": null,
      "outputs": []
    },
    {
      "cell_type": "code",
      "source": [
        "y=df['label']"
      ],
      "metadata": {
        "id": "LTV96QtHCITn"
      },
      "execution_count": null,
      "outputs": []
    },
    {
      "cell_type": "code",
      "source": [
        "##check wheather dataset is balanced or not\n",
        "y.value_counts()"
      ],
      "metadata": {
        "colab": {
          "base_uri": "https://localhost:8080/"
        },
        "id": "LfpT0v_PCKag",
        "outputId": "b76ce595-3d13-42b8-eb47-9964326581e6"
      },
      "execution_count": null,
      "outputs": [
        {
          "output_type": "execute_result",
          "data": {
            "text/plain": [
              "label\n",
              "0    7545\n",
              "1    5743\n",
              "Name: count, dtype: int64"
            ]
          },
          "metadata": {},
          "execution_count": 13
        }
      ]
    },
    {
      "cell_type": "code",
      "source": [
        "import tensorflow as tf"
      ],
      "metadata": {
        "id": "88hPhY6pCSYz"
      },
      "execution_count": null,
      "outputs": []
    },
    {
      "cell_type": "code",
      "source": [
        "tf.__version__"
      ],
      "metadata": {
        "id": "Gr56Roe0DRbI",
        "colab": {
          "base_uri": "https://localhost:8080/",
          "height": 35
        },
        "outputId": "1428027b-33c7-44a6-b550-8952dc456c40"
      },
      "execution_count": null,
      "outputs": [
        {
          "output_type": "execute_result",
          "data": {
            "text/plain": [
              "'2.15.0'"
            ],
            "application/vnd.google.colaboratory.intrinsic+json": {
              "type": "string"
            }
          },
          "metadata": {},
          "execution_count": 15
        }
      ]
    },
    {
      "cell_type": "code",
      "source": [
        "from tensorflow.keras.layers import Embedding\n",
        "from tensorflow.keras.preprocessing.sequence import pad_sequences\n",
        "from tensorflow.keras.models import Sequential\n",
        "from tensorflow.keras.preprocessing.text import one_hot\n",
        "from tensorflow.keras.layers import LSTM\n",
        "from tensorflow.keras.layers import Dense\n",
        "from tensorflow.keras.layers import Bidirectional"
      ],
      "metadata": {
        "id": "oq5ZMDkKMxgj"
      },
      "execution_count": null,
      "outputs": []
    },
    {
      "cell_type": "code",
      "source": [
        "## vocabulary size\n",
        "voc_size=5000"
      ],
      "metadata": {
        "id": "vx91oXEwNssT"
      },
      "execution_count": null,
      "outputs": []
    },
    {
      "cell_type": "code",
      "source": [
        "message=X.copy()"
      ],
      "metadata": {
        "id": "63bWcneVN5Tq"
      },
      "execution_count": null,
      "outputs": []
    },
    {
      "cell_type": "code",
      "source": [
        "message"
      ],
      "metadata": {
        "colab": {
          "base_uri": "https://localhost:8080/",
          "height": 754
        },
        "id": "BDe2NACfN80R",
        "outputId": "750428ed-9fe4-4250-d0b9-0c1ac722d8f2"
      },
      "execution_count": null,
      "outputs": [
        {
          "output_type": "execute_result",
          "data": {
            "text/plain": [
              "          id                                              title  \\\n",
              "0          0  House Dem Aide: We Didn’t Even See Comey’s Let...   \n",
              "1          1  FLYNN: Hillary Clinton, Big Woman on Campus - ...   \n",
              "2          2                  Why the Truth Might Get You Fired   \n",
              "3          3  15 Civilians Killed In Single US Airstrike Hav...   \n",
              "4          4  Iranian woman jailed for fictional unpublished...   \n",
              "...      ...                                                ...   \n",
              "13283  15114  Donald Trump Says Drugs Are ‘Big Factor’ in Ur...   \n",
              "13284  15115  Mitch McConnell, Paul Ryan Meet with Donald Tr...   \n",
              "13285  15116  Susan Rice, Ex-Obama Adviser, Is Back in Polit...   \n",
              "13286  15117  The Fix Is In: NBC Affiliate Accidentally Post...   \n",
              "13287  15118  Original unreleased transcript of Sonia Gandhi...   \n",
              "\n",
              "                    author                                               text  \n",
              "0            Darrell Lucus  House Dem Aide: We Didn’t Even See Comey’s Let...  \n",
              "1          Daniel J. Flynn  Ever get the feeling your life circles the rou...  \n",
              "2       Consortiumnews.com  Why the Truth Might Get You Fired October 29, ...  \n",
              "3          Jessica Purkiss  Videos 15 Civilians Killed In Single US Airstr...  \n",
              "4           Howard Portnoy  Print \\nAn Iranian woman has been sentenced to...  \n",
              "...                    ...                                                ...  \n",
              "13283        Ashley Parker  PITTSBURGH  —   Donald J. Trump said Thursday ...  \n",
              "13284     Charlie Spiering  House Speaker Paul Ryan and Senate Majority Le...  \n",
              "13285          Peter Baker  WASHINGTON  —   She has been here before. Afte...  \n",
              "13286        PatriotRising  Posted 11/03/2016 12:44 am by PatriotRising wi...  \n",
              "13287  Suresh Subrahmanyan  Original unreleased transcript of Sonia Gandhi...  \n",
              "\n",
              "[13288 rows x 4 columns]"
            ],
            "text/html": [
              "\n",
              "  <div id=\"df-4f37d7b9-86b5-4fa4-aeb9-59b262adcd2c\" class=\"colab-df-container\">\n",
              "    <div>\n",
              "<style scoped>\n",
              "    .dataframe tbody tr th:only-of-type {\n",
              "        vertical-align: middle;\n",
              "    }\n",
              "\n",
              "    .dataframe tbody tr th {\n",
              "        vertical-align: top;\n",
              "    }\n",
              "\n",
              "    .dataframe thead th {\n",
              "        text-align: right;\n",
              "    }\n",
              "</style>\n",
              "<table border=\"1\" class=\"dataframe\">\n",
              "  <thead>\n",
              "    <tr style=\"text-align: right;\">\n",
              "      <th></th>\n",
              "      <th>id</th>\n",
              "      <th>title</th>\n",
              "      <th>author</th>\n",
              "      <th>text</th>\n",
              "    </tr>\n",
              "  </thead>\n",
              "  <tbody>\n",
              "    <tr>\n",
              "      <th>0</th>\n",
              "      <td>0</td>\n",
              "      <td>House Dem Aide: We Didn’t Even See Comey’s Let...</td>\n",
              "      <td>Darrell Lucus</td>\n",
              "      <td>House Dem Aide: We Didn’t Even See Comey’s Let...</td>\n",
              "    </tr>\n",
              "    <tr>\n",
              "      <th>1</th>\n",
              "      <td>1</td>\n",
              "      <td>FLYNN: Hillary Clinton, Big Woman on Campus - ...</td>\n",
              "      <td>Daniel J. Flynn</td>\n",
              "      <td>Ever get the feeling your life circles the rou...</td>\n",
              "    </tr>\n",
              "    <tr>\n",
              "      <th>2</th>\n",
              "      <td>2</td>\n",
              "      <td>Why the Truth Might Get You Fired</td>\n",
              "      <td>Consortiumnews.com</td>\n",
              "      <td>Why the Truth Might Get You Fired October 29, ...</td>\n",
              "    </tr>\n",
              "    <tr>\n",
              "      <th>3</th>\n",
              "      <td>3</td>\n",
              "      <td>15 Civilians Killed In Single US Airstrike Hav...</td>\n",
              "      <td>Jessica Purkiss</td>\n",
              "      <td>Videos 15 Civilians Killed In Single US Airstr...</td>\n",
              "    </tr>\n",
              "    <tr>\n",
              "      <th>4</th>\n",
              "      <td>4</td>\n",
              "      <td>Iranian woman jailed for fictional unpublished...</td>\n",
              "      <td>Howard Portnoy</td>\n",
              "      <td>Print \\nAn Iranian woman has been sentenced to...</td>\n",
              "    </tr>\n",
              "    <tr>\n",
              "      <th>...</th>\n",
              "      <td>...</td>\n",
              "      <td>...</td>\n",
              "      <td>...</td>\n",
              "      <td>...</td>\n",
              "    </tr>\n",
              "    <tr>\n",
              "      <th>13283</th>\n",
              "      <td>15114</td>\n",
              "      <td>Donald Trump Says Drugs Are ‘Big Factor’ in Ur...</td>\n",
              "      <td>Ashley Parker</td>\n",
              "      <td>PITTSBURGH  —   Donald J. Trump said Thursday ...</td>\n",
              "    </tr>\n",
              "    <tr>\n",
              "      <th>13284</th>\n",
              "      <td>15115</td>\n",
              "      <td>Mitch McConnell, Paul Ryan Meet with Donald Tr...</td>\n",
              "      <td>Charlie Spiering</td>\n",
              "      <td>House Speaker Paul Ryan and Senate Majority Le...</td>\n",
              "    </tr>\n",
              "    <tr>\n",
              "      <th>13285</th>\n",
              "      <td>15116</td>\n",
              "      <td>Susan Rice, Ex-Obama Adviser, Is Back in Polit...</td>\n",
              "      <td>Peter Baker</td>\n",
              "      <td>WASHINGTON  —   She has been here before. Afte...</td>\n",
              "    </tr>\n",
              "    <tr>\n",
              "      <th>13286</th>\n",
              "      <td>15117</td>\n",
              "      <td>The Fix Is In: NBC Affiliate Accidentally Post...</td>\n",
              "      <td>PatriotRising</td>\n",
              "      <td>Posted 11/03/2016 12:44 am by PatriotRising wi...</td>\n",
              "    </tr>\n",
              "    <tr>\n",
              "      <th>13287</th>\n",
              "      <td>15118</td>\n",
              "      <td>Original unreleased transcript of Sonia Gandhi...</td>\n",
              "      <td>Suresh Subrahmanyan</td>\n",
              "      <td>Original unreleased transcript of Sonia Gandhi...</td>\n",
              "    </tr>\n",
              "  </tbody>\n",
              "</table>\n",
              "<p>13288 rows × 4 columns</p>\n",
              "</div>\n",
              "    <div class=\"colab-df-buttons\">\n",
              "\n",
              "  <div class=\"colab-df-container\">\n",
              "    <button class=\"colab-df-convert\" onclick=\"convertToInteractive('df-4f37d7b9-86b5-4fa4-aeb9-59b262adcd2c')\"\n",
              "            title=\"Convert this dataframe to an interactive table.\"\n",
              "            style=\"display:none;\">\n",
              "\n",
              "  <svg xmlns=\"http://www.w3.org/2000/svg\" height=\"24px\" viewBox=\"0 -960 960 960\">\n",
              "    <path d=\"M120-120v-720h720v720H120Zm60-500h600v-160H180v160Zm220 220h160v-160H400v160Zm0 220h160v-160H400v160ZM180-400h160v-160H180v160Zm440 0h160v-160H620v160ZM180-180h160v-160H180v160Zm440 0h160v-160H620v160Z\"/>\n",
              "  </svg>\n",
              "    </button>\n",
              "\n",
              "  <style>\n",
              "    .colab-df-container {\n",
              "      display:flex;\n",
              "      gap: 12px;\n",
              "    }\n",
              "\n",
              "    .colab-df-convert {\n",
              "      background-color: #E8F0FE;\n",
              "      border: none;\n",
              "      border-radius: 50%;\n",
              "      cursor: pointer;\n",
              "      display: none;\n",
              "      fill: #1967D2;\n",
              "      height: 32px;\n",
              "      padding: 0 0 0 0;\n",
              "      width: 32px;\n",
              "    }\n",
              "\n",
              "    .colab-df-convert:hover {\n",
              "      background-color: #E2EBFA;\n",
              "      box-shadow: 0px 1px 2px rgba(60, 64, 67, 0.3), 0px 1px 3px 1px rgba(60, 64, 67, 0.15);\n",
              "      fill: #174EA6;\n",
              "    }\n",
              "\n",
              "    .colab-df-buttons div {\n",
              "      margin-bottom: 4px;\n",
              "    }\n",
              "\n",
              "    [theme=dark] .colab-df-convert {\n",
              "      background-color: #3B4455;\n",
              "      fill: #D2E3FC;\n",
              "    }\n",
              "\n",
              "    [theme=dark] .colab-df-convert:hover {\n",
              "      background-color: #434B5C;\n",
              "      box-shadow: 0px 1px 3px 1px rgba(0, 0, 0, 0.15);\n",
              "      filter: drop-shadow(0px 1px 2px rgba(0, 0, 0, 0.3));\n",
              "      fill: #FFFFFF;\n",
              "    }\n",
              "  </style>\n",
              "\n",
              "    <script>\n",
              "      const buttonEl =\n",
              "        document.querySelector('#df-4f37d7b9-86b5-4fa4-aeb9-59b262adcd2c button.colab-df-convert');\n",
              "      buttonEl.style.display =\n",
              "        google.colab.kernel.accessAllowed ? 'block' : 'none';\n",
              "\n",
              "      async function convertToInteractive(key) {\n",
              "        const element = document.querySelector('#df-4f37d7b9-86b5-4fa4-aeb9-59b262adcd2c');\n",
              "        const dataTable =\n",
              "          await google.colab.kernel.invokeFunction('convertToInteractive',\n",
              "                                                    [key], {});\n",
              "        if (!dataTable) return;\n",
              "\n",
              "        const docLinkHtml = 'Like what you see? Visit the ' +\n",
              "          '<a target=\"_blank\" href=https://colab.research.google.com/notebooks/data_table.ipynb>data table notebook</a>'\n",
              "          + ' to learn more about interactive tables.';\n",
              "        element.innerHTML = '';\n",
              "        dataTable['output_type'] = 'display_data';\n",
              "        await google.colab.output.renderOutput(dataTable, element);\n",
              "        const docLink = document.createElement('div');\n",
              "        docLink.innerHTML = docLinkHtml;\n",
              "        element.appendChild(docLink);\n",
              "      }\n",
              "    </script>\n",
              "  </div>\n",
              "\n",
              "\n",
              "<div id=\"df-6b5eff7d-5026-498a-b8e0-3e7449a3b65a\">\n",
              "  <button class=\"colab-df-quickchart\" onclick=\"quickchart('df-6b5eff7d-5026-498a-b8e0-3e7449a3b65a')\"\n",
              "            title=\"Suggest charts\"\n",
              "            style=\"display:none;\">\n",
              "\n",
              "<svg xmlns=\"http://www.w3.org/2000/svg\" height=\"24px\"viewBox=\"0 0 24 24\"\n",
              "     width=\"24px\">\n",
              "    <g>\n",
              "        <path d=\"M19 3H5c-1.1 0-2 .9-2 2v14c0 1.1.9 2 2 2h14c1.1 0 2-.9 2-2V5c0-1.1-.9-2-2-2zM9 17H7v-7h2v7zm4 0h-2V7h2v10zm4 0h-2v-4h2v4z\"/>\n",
              "    </g>\n",
              "</svg>\n",
              "  </button>\n",
              "\n",
              "<style>\n",
              "  .colab-df-quickchart {\n",
              "      --bg-color: #E8F0FE;\n",
              "      --fill-color: #1967D2;\n",
              "      --hover-bg-color: #E2EBFA;\n",
              "      --hover-fill-color: #174EA6;\n",
              "      --disabled-fill-color: #AAA;\n",
              "      --disabled-bg-color: #DDD;\n",
              "  }\n",
              "\n",
              "  [theme=dark] .colab-df-quickchart {\n",
              "      --bg-color: #3B4455;\n",
              "      --fill-color: #D2E3FC;\n",
              "      --hover-bg-color: #434B5C;\n",
              "      --hover-fill-color: #FFFFFF;\n",
              "      --disabled-bg-color: #3B4455;\n",
              "      --disabled-fill-color: #666;\n",
              "  }\n",
              "\n",
              "  .colab-df-quickchart {\n",
              "    background-color: var(--bg-color);\n",
              "    border: none;\n",
              "    border-radius: 50%;\n",
              "    cursor: pointer;\n",
              "    display: none;\n",
              "    fill: var(--fill-color);\n",
              "    height: 32px;\n",
              "    padding: 0;\n",
              "    width: 32px;\n",
              "  }\n",
              "\n",
              "  .colab-df-quickchart:hover {\n",
              "    background-color: var(--hover-bg-color);\n",
              "    box-shadow: 0 1px 2px rgba(60, 64, 67, 0.3), 0 1px 3px 1px rgba(60, 64, 67, 0.15);\n",
              "    fill: var(--button-hover-fill-color);\n",
              "  }\n",
              "\n",
              "  .colab-df-quickchart-complete:disabled,\n",
              "  .colab-df-quickchart-complete:disabled:hover {\n",
              "    background-color: var(--disabled-bg-color);\n",
              "    fill: var(--disabled-fill-color);\n",
              "    box-shadow: none;\n",
              "  }\n",
              "\n",
              "  .colab-df-spinner {\n",
              "    border: 2px solid var(--fill-color);\n",
              "    border-color: transparent;\n",
              "    border-bottom-color: var(--fill-color);\n",
              "    animation:\n",
              "      spin 1s steps(1) infinite;\n",
              "  }\n",
              "\n",
              "  @keyframes spin {\n",
              "    0% {\n",
              "      border-color: transparent;\n",
              "      border-bottom-color: var(--fill-color);\n",
              "      border-left-color: var(--fill-color);\n",
              "    }\n",
              "    20% {\n",
              "      border-color: transparent;\n",
              "      border-left-color: var(--fill-color);\n",
              "      border-top-color: var(--fill-color);\n",
              "    }\n",
              "    30% {\n",
              "      border-color: transparent;\n",
              "      border-left-color: var(--fill-color);\n",
              "      border-top-color: var(--fill-color);\n",
              "      border-right-color: var(--fill-color);\n",
              "    }\n",
              "    40% {\n",
              "      border-color: transparent;\n",
              "      border-right-color: var(--fill-color);\n",
              "      border-top-color: var(--fill-color);\n",
              "    }\n",
              "    60% {\n",
              "      border-color: transparent;\n",
              "      border-right-color: var(--fill-color);\n",
              "    }\n",
              "    80% {\n",
              "      border-color: transparent;\n",
              "      border-right-color: var(--fill-color);\n",
              "      border-bottom-color: var(--fill-color);\n",
              "    }\n",
              "    90% {\n",
              "      border-color: transparent;\n",
              "      border-bottom-color: var(--fill-color);\n",
              "    }\n",
              "  }\n",
              "</style>\n",
              "\n",
              "  <script>\n",
              "    async function quickchart(key) {\n",
              "      const quickchartButtonEl =\n",
              "        document.querySelector('#' + key + ' button');\n",
              "      quickchartButtonEl.disabled = true;  // To prevent multiple clicks.\n",
              "      quickchartButtonEl.classList.add('colab-df-spinner');\n",
              "      try {\n",
              "        const charts = await google.colab.kernel.invokeFunction(\n",
              "            'suggestCharts', [key], {});\n",
              "      } catch (error) {\n",
              "        console.error('Error during call to suggestCharts:', error);\n",
              "      }\n",
              "      quickchartButtonEl.classList.remove('colab-df-spinner');\n",
              "      quickchartButtonEl.classList.add('colab-df-quickchart-complete');\n",
              "    }\n",
              "    (() => {\n",
              "      let quickchartButtonEl =\n",
              "        document.querySelector('#df-6b5eff7d-5026-498a-b8e0-3e7449a3b65a button');\n",
              "      quickchartButtonEl.style.display =\n",
              "        google.colab.kernel.accessAllowed ? 'block' : 'none';\n",
              "    })();\n",
              "  </script>\n",
              "</div>\n",
              "\n",
              "  <div id=\"id_dbea81dc-a31e-45ee-b063-637602c68802\">\n",
              "    <style>\n",
              "      .colab-df-generate {\n",
              "        background-color: #E8F0FE;\n",
              "        border: none;\n",
              "        border-radius: 50%;\n",
              "        cursor: pointer;\n",
              "        display: none;\n",
              "        fill: #1967D2;\n",
              "        height: 32px;\n",
              "        padding: 0 0 0 0;\n",
              "        width: 32px;\n",
              "      }\n",
              "\n",
              "      .colab-df-generate:hover {\n",
              "        background-color: #E2EBFA;\n",
              "        box-shadow: 0px 1px 2px rgba(60, 64, 67, 0.3), 0px 1px 3px 1px rgba(60, 64, 67, 0.15);\n",
              "        fill: #174EA6;\n",
              "      }\n",
              "\n",
              "      [theme=dark] .colab-df-generate {\n",
              "        background-color: #3B4455;\n",
              "        fill: #D2E3FC;\n",
              "      }\n",
              "\n",
              "      [theme=dark] .colab-df-generate:hover {\n",
              "        background-color: #434B5C;\n",
              "        box-shadow: 0px 1px 3px 1px rgba(0, 0, 0, 0.15);\n",
              "        filter: drop-shadow(0px 1px 2px rgba(0, 0, 0, 0.3));\n",
              "        fill: #FFFFFF;\n",
              "      }\n",
              "    </style>\n",
              "    <button class=\"colab-df-generate\" onclick=\"generateWithVariable('message')\"\n",
              "            title=\"Generate code using this dataframe.\"\n",
              "            style=\"display:none;\">\n",
              "\n",
              "  <svg xmlns=\"http://www.w3.org/2000/svg\" height=\"24px\"viewBox=\"0 0 24 24\"\n",
              "       width=\"24px\">\n",
              "    <path d=\"M7,19H8.4L18.45,9,17,7.55,7,17.6ZM5,21V16.75L18.45,3.32a2,2,0,0,1,2.83,0l1.4,1.43a1.91,1.91,0,0,1,.58,1.4,1.91,1.91,0,0,1-.58,1.4L9.25,21ZM18.45,9,17,7.55Zm-12,3A5.31,5.31,0,0,0,4.9,8.1,5.31,5.31,0,0,0,1,6.5,5.31,5.31,0,0,0,4.9,4.9,5.31,5.31,0,0,0,6.5,1,5.31,5.31,0,0,0,8.1,4.9,5.31,5.31,0,0,0,12,6.5,5.46,5.46,0,0,0,6.5,12Z\"/>\n",
              "  </svg>\n",
              "    </button>\n",
              "    <script>\n",
              "      (() => {\n",
              "      const buttonEl =\n",
              "        document.querySelector('#id_dbea81dc-a31e-45ee-b063-637602c68802 button.colab-df-generate');\n",
              "      buttonEl.style.display =\n",
              "        google.colab.kernel.accessAllowed ? 'block' : 'none';\n",
              "\n",
              "      buttonEl.onclick = () => {\n",
              "        google.colab.notebook.generateWithVariable('message');\n",
              "      }\n",
              "      })();\n",
              "    </script>\n",
              "  </div>\n",
              "\n",
              "    </div>\n",
              "  </div>\n"
            ],
            "application/vnd.google.colaboratory.intrinsic+json": {
              "type": "dataframe",
              "variable_name": "message",
              "summary": "{\n  \"name\": \"message\",\n  \"rows\": 13288,\n  \"fields\": [\n    {\n      \"column\": \"id\",\n      \"properties\": {\n        \"dtype\": \"string\",\n        \"num_unique_values\": 13288,\n        \"samples\": [\n          \"2697\",\n          \"14916\",\n          \"4719\"\n        ],\n        \"semantic_type\": \"\",\n        \"description\": \"\"\n      }\n    },\n    {\n      \"column\": \"title\",\n      \"properties\": {\n        \"dtype\": \"string\",\n        \"num_unique_values\": 13089,\n        \"samples\": [\n          \"Kim Kardashian West and Kanye West Reignite Feud With Taylor Swift - The New York Times\",\n          \"Wolf Richter: Come on Moody\\u2019s, Spare Us These Falsehoods: That $1.3 Trillion \\u201cOverseas Cash\\u201d Is Already in the US\",\n          \"Trump OKs DACA Amnesty: \\u2019This Is a Case of Heart\\u2019 - Breitbart\"\n        ],\n        \"semantic_type\": \"\",\n        \"description\": \"\"\n      }\n    },\n    {\n      \"column\": \"author\",\n      \"properties\": {\n        \"dtype\": \"category\",\n        \"num_unique_values\": 3164,\n        \"samples\": [\n          \"Brandy Combs\",\n          \"Dr. Marsha Coleman-Adebayo\",\n          \"Paul Fassa\"\n        ],\n        \"semantic_type\": \"\",\n        \"description\": \"\"\n      }\n    },\n    {\n      \"column\": \"text\",\n      \"properties\": {\n        \"dtype\": \"string\",\n        \"num_unique_values\": 13112,\n        \"samples\": [\n          \"Africa , China , Hybrid Wars , United States By Andrew KORYBKO (USA) \\nThe most colonized and exploited continent in the history of the world is once more the center of global competition, albeit this time the form of rivalry between the Great Powers has taken on a much more nuanced, though no less intense, form. The US, France, and their unipolar allies want to retain Africa as their exclusive labor, market, and resource reserve for the foreseeable future, both out of their own material self-interest and with the added strategic benefit of depriving China and others of its economic fruits. Contrarily, China wants to integrate the world\\u2019s fastest growing economies and populations into the unfolding multipolar world order and give them a fair chance at succeeding in the global system. The contrast between the West\\u2019s neo-colonialism and China\\u2019s liberating sovereignty couldn\\u2019t be more crisp, and it\\u2019s this opposition of diametrically opposed global strategies and development models that sets the stage for the grand proxy battle between the US and China over Africa. \\nJust as much as China needs Africa in order to maintain its steady growth rates into the foreseeable future and ensure its domestic stability, so too does the US want to \\u2018poach\\u2019 Africa from China in order to offset the structural sustainability of its number one rival\\u2019s global leadership. The nature of the African-wide proxy conflict is that China is ardently working to finance, construct, and connect various infrastructural projects to one another in order to create a supraregional web of intermodal transport corridors that could then perfectly complement the maritime portion of the One Belt One Road (\\u201cNew Silk Road\\u201d) global vision, while the US is trying with equal fervor to seize control of key nodes along these transnational routes as well as strategically disrupt crucial portions in order to increase China\\u2019s dependence on the unipolar-influenced areas. As the ultimate last resort, however, the US, the \\u201cworld island\\u201d in all the manners that it can be strategically understood as, will pull out all the stops and unleash a \\u2018scorched earth\\u2019 trail of Hybrid War destruction in its wake while it strategically retreats back to its self-sufficient \\u201cFortress North America\\u201d as the final coup de grace in the African proxy war against China. \\nMore than likely, it won\\u2019t ever get to that dramatic of an absolute point whereby the US fully retreats from Africa or totally destroys the continent with Hybrid War, but realistically speaking, there\\u2019ll likely be a blended development of scenarios that takes place in this heated theater of competition over the coming decades that integrates elements of both extremes. China will predictably succeed in spearheading several ultra-strategic New Silk Road development corridors in Africa, while the US will probably sabotage a few others and unleash a handful of Hybrid Wars to keep the existing ways indefinitely at bay from fully actualizing their envisioned geo-economic potential. There\\u2019s no surefire way to know with absolutely certainty what the future will bring, but it\\u2019s possible to acquire an educated expectation about the structural and systemic manner in which the identified group of states will be targeted by US-provoked Hybrid Wars. Even accounting for the possibility that some of the forthcoming examined scenarios might be \\u201cnaturally occurring\\u201d in that they require little if any external pressure to instigate, there\\u2019s still a strong likelihood that at least some of the investigated possibilities will eventually occur to varying extents and that the geopolitical repercussions will indisputably impact quite negatively on China and the larger multipolar world\\u2019s grand position in the New Cold War. \\nThis section of the book is organized in such a manner that Part I will describe Africa\\u2019s overall geopolitical situation, highlighting the influence of hegemonic and institutional regionalism (sometimes overlapping, other times not) over the continent\\u2019s affairs in order to clearly illustrate the preexisting advantages and obstacles to China\\u2019s New Silk Road vision. The subsequent chapters of the African Hybrid War research will then comprehensively examine the five separate categories of states and their pertinent neighbors that the author has already identified as being relevantly incorporated into the immediate thesis. To remind the reader about what was described in Part III of the book\\u2019s Introduction and to expand upon the earlier presented paradigmatic map in a more structurally detailed manner, the following cartographic revision will be henceforth used as the point of reference in guiding the research beyond Part I: \\nKey \\n* Yellow \\u2013 East Africa/East African Federation \\n* Blue \\u2013 Central-Southern Africa \\n* Black \\u2013 Failed State Belt \\n* Red \\u2013 Lake Chad Region \\n* Hashed/Thatched Lines \\u2013 countries that will inevitably become involved in the targeted category states\\u2019 Hybrid War destabilization, whether as an aggressive actor, a passive victim, or a blended mix thereof. Schematic Observations \\nA few comments need to be stated about the above map before commencing Part I of the African Hybrid War research: \\nSouthern African Cone: \\nFirstly, while it\\u2019s conceptually possible for all states in Africa (or anywhere in the world, for that matter) to be afflicted by Hybrid War, keeping in accordance with the axiom that this method of warfare is more often than not applied in disrupting multipolar transnational connective infrastructure projects and/or seizing control of them, it can be surmised that the ones which could most radically revolutionize the continent\\u2019s geopolitical and geo-economic would be most actively targeted and consequently receive the highest likelihood of some sort of Hybrid War destabilization in the coming future. All of this will be described in detail in Part I, but for now it\\u2019s enough to know that the identified states lay along the paths of China\\u2019s presently constructed Silk Road routes or most probable forthcoming projects that it could pursue in achieving its grand strategic ends. \\nIt should be clarified at this point that the Southern African Cone was not included in the above model because its economic corridors are relatively well-established and have already been utilized for some time by all sorts of Great Powers, the West obviously included. Furthermore, concerning Namibia and Botswana\\u2019s global connectivity via South Africa, and to an extent, even Zimbabwe and Mozambique\\u2019s as well, this mostly deals with the one-way transport of natural resources and less so with each respective state\\u2019s labor and market potential. While each of these countries have a given role that they play vis-\\u00e0-vis the Chinese economy, none of them except for South Africa (the hub through which most of their exports, barring Mozambique\\u2019s, pass) is integral enough to be targeted by their own Hybrid War. \\nTheoretically speaking, disruptions in the regional periphery around South Africa could have a strategic effect in putting pressure on the country\\u2019s multipolar leadership and pave the way for a regime change scenario, but given the rotten nature of corrupt South African politics, it\\u2019s more expected that traditional \\u2018soft coup\\u2019 means such as constitutional technicalities and simple Color Revolutions (i.e. the anti-Rousseff coup in Brazil) would be used in this instance. Additionally, the resources of the population-sparse countries of Namibia and Botswana and the general market and labor potential of South Africa are already pretty much integrated into the larger global economy, so there are many existing unipolar stakeholders that would also be adversely affected by a severe disruption in or around their common point of African access. The same can\\u2019t be said so much about Zimbabwe and Mozambique, the former rich in minerals such as diamonds and platinum while the latter is poised to become one of the world\\u2019s largest LNG exporters, so it\\u2019s entirely possible that they may be targeted sometime in the future. But even so, it would be less in connection with China\\u2019s multipolar transnational connective infrastructure projects than with their own individual standalone potentials in their respective fields, thus strategically differentiating them from the other countries included in the present study (although that is not to say that Hybrid War techniques would not be used \\u2013 they probably would to a large extent). \\nInsular Importance: \\nIn relation to the above, the insular countries of Africa were also not included in the continental overview, although they too play an important role in its evolving geopolitical paradigm. Nevertheless, because they\\u2019re island nations, they\\u2019re not directly connected to anything else besides the high seas, so although they may have valuable transit node status for China as an integral component of its Sea Lines of Communication, they\\u2019re not as directly affected by the region-stretching Hybrid War study that was commenced for the mainland. Nevertheless, because each of them could play a pivotal role in influencing continental affairs if properly utilized by a partnering Great Power, it\\u2019s worthwhile to very concisely comment on how they fit into the larger strategic equation that will be described throughout this work: \\n* Yellow \\u2013 Canary Islands (Spain): This legacy holding allows Madrid to exert influence near the coasts of Morocco and Western Sahara, both thought to be rich with fish and possible energy resources. \\n* Green \\u2013 Cabo Verde (formerly Cape Verde prior to late-2013): The former Portuguese colony connects the North and South Atlantic and offers a strategic position near the mouth of the Senegal River, as well as being positioned along an important oceanic route that the US and EU must take to access West Africa. \\n* Blue \\u2013 S\\u00e3o Tom\\u00e9 and Pr\\u00edncipe: Another former Portuguese colony, this one is crucially located in the hydrocarbon-rich waters of the Gulf of Guinea and in close proximity to the shoreline of Africa\\u2019s largest economy, Nigeria. \\n* Violet \\u2013 Comoros and the French overseas department of Mayotte: These two locations are almost on top of northern Mozambique\\u2019s LNG-prospected Rovuma Basin and thus near what will likely become a major energy exporting area in the near future. \\n* Orange \\u2013 Seychelles: The former UK-colonized island chain lies along the route of approach that India and China must take in accessing the burgeoning East African marketplace, and it\\u2019s for this strategically competitive reason that New Delhi has proactively sought to build a naval base and position some of its military units there in order to \\u201ccontain\\u201d China. \\n* Unmarked \\u2013 Mauritius and the French island of Reunion: These two insular areas are not directly relevant to Africa\\u2019s mainland geopolitical order, although they do acquire significance vis-\\u00e0-vis Madagascar and the US-controlled Indian Ocean bastion of Diego Garcia. \\nTransregional Conflict Overspill: \\nOne of the most striking aspects of the reference map is that it clearly delineates the geopolitical fault lines where Hybrid War conflicts could easily become transregional: \\nOut of all of the areas designated by the map, it\\u2019s most probable that the uncontrollably violent processes in the Failed State Belt of the Central African Republic (CAR) and South Sudan would be the ones to spread to other parts of Africa, at least as regards the continent\\u2019s conflicts that are presently ongoing (and not accounting for those that have yet to possibly erupt). In particular, CAR\\u2019s chaos could result in a refugee and militant overspill to Cameroon and Chad, possibly leading to these respective Christian- and Muslim-led governments supporting their own confessional sides in the country\\u2019s unresolved civil war. The misleading \\u201cClash of Civilizations\\u201d narrative that would assuredly be purposely pushed by the Western mainstream media will be discussed later on when addressing the Failed State Belt, but at this moment it\\u2019s useful just to be aware of the transregional \\u201cinfection\\u201d potential that the CAR has in affecting the Lake Chad region. Additionally, the country\\u2019s domestic difficulties could also spread southward into the northern reaches of the Central-Southern state of the Democratic Republic of the Congo (DRC), representing a dual destabilization threat emanating from the CAR. \\nSouth Sudan can do something similar to the CAR in relation to the northern part of the DRC, but possibly even to the Horn of Africa state of Ethiopia and the East African state of Uganda as well. Tellingly, these latter two states are actively involved in the conflict resolution process in South Sudan and are jostling against one another for influence there in order to carve out defensive buffers (but also markets, of course) to protect themselves from this scenario. It should go without saying that South Sudan was only brought into existence because it was forcibly severed from Sudan proper over a three-decade-long civil war period, and the dynamic of anti-Khartoum action hasn\\u2019t stopped since Juba gained its independence in 2011. Therefore, South Sudan represents an even larger asymmetrical regional threat than CAR does, and their combined destabilization potential explains why they\\u2019re both categorized together as part of the Failed State Belt. \\nIf their respective conflicts somehow merged into a transnational conflagration, then that would represent a large-scale Hybrid War threat in the geographic heart of Africa, but the closest this has henceforth come has been the over-exaggerated threat of Joseph Kony. With reference to the Failed State Belt\\u2019s Hybrid War vulnerabilities and the transregionalization that its internal conflicts pose, it\\u2019s little wonder then that the US exploited the mystique around this warlord in order to deploy a limited but very strategic contingent of its special forces to Uganda, South Sudan, DRC, and CAR. Almost as an afterthought but drawing on the tangent of transregional conflict overlap, it\\u2019s topically pertinent to recall the Darfur Conflict and how this essentially was a proxy competition between the Lake Chad regional state of Chad and the extended Failed State Belt and somewhat Gulf-influenced state of Sudan. It\\u2019s no longer as relevant of a geopolitical item as it once was during the mid-2000s, but it nevertheless still has the potential to re-erupt in the future, especially if the externally directed Sudanese dissolution process speeds up and makes headway in the states of Blue Nile and South Kordofan. \\nLastly, there\\u2019s the realistic possibility that the US\\u2019 attempts to instigate a Hybrid War in Burundi could set off a chain reaction of destabilization in the eastern DRC, Rwanda (and by extent, possibly up to Uganda), and western Tanzania, thereby making this geographically tiny state a disproportionately large trigger in upsetting the regional balance. Although there\\u2019s not yet an active conflict in Burundi anywhere on par with the scale of what\\u2019s been raging in the CAR and South Sudan over the past couple of years, this doesn\\u2019t mean that one can\\u2019t quickly develop if the entire state collapses under Hybrid War pressure, and this disturbing scenario will certainly be explored more at length later on in the work. \\nMapping out the expected transregional conflict overspill zones in Africa, one can unmistakably see that it\\u2019s the entire Upper-Central (Failed State Belt) and the eastern portion of the Central-Southern zones of Africa that are most at risk of this destructive process unfolding. Accordingly, this realization leads one to conclude that the DRC and the areas immediately abutting it provide the most fertile ground for the transnationalization of domestic conflicts, which somewhat (but not totally) explains why the Second Congo War eventually came to involve states located far away from the actual battlespace and be nicknamed \\u201c Africa\\u2019s World War \\u201d. To put it another way, the Hybrid War vulnerabilities of the identified area combined with its obvious geostrategic centrality to the African continent makes it doubly capable of sucking countless states into a literal Black Hole of Chaos that could easily become the ultimate proxy war climax between the US and China. \\nTo be continued\\u2026 \\nAndrew Korybko is the American political commentator currently working for the Sputnik agency. He is the author of the monograph \\u201c Hybrid Wars: The Indirect Adaptive Approach To Regime Change \\u201d (2015). This text will be included into his forthcoming book on the theory of Hybrid Warfare. \\nPREVIOUS CHAPTERS:\",\n          \"Every entertainer likes to be subversive  \\u2014   to push the envelope and surprise their audience. At a time when Hollywood has made itself insufferable with its increasingly hysterical political commentary, Lady Gaga shocked the world simply by entertaining it. [Expectations were   before the Super Bowl LI halftime show what would Gaga  \\u2014   one of Hillary Clinton\\u2019s top celebrity supporters  \\u2014   say or do in this, the first halftime show of Donald Trump\\u2019s presidency? How could she possibly top Beyonc\\u00e9\\u2019s   tribute to the Black Panthers from last year\\u2019s game?  \\u201cThis performance is for everyone,\\u201d Gaga coyly told reporters in Houston on Saturday, refusing to divulge her plans. \\u201cI want to, more than anything, create a moment that everyone that\\u2019s watching will never forget. \\u201d Tantalizing stuff. And yet there was barely a whiff of partisan politics at all during the pop star\\u2019s entire   set, not even a requisite \\u201cResist,\\u201d or \\u201cLove trumps hate. \\u201d Opening with a   of \\u201cGod Bless America\\u201d and \\u201cThis Land Is Your Land\\u201d from the roof of NRG Stadium under a cloud of pulsating red, white and   drones, Gaga literally dove into the building and straight into a collection of her greatest hits: \\u201cPoker Face,\\u201d \\u201cJust Dance,\\u201d \\u201cBorn This Way,\\u201d \\u201cTelephone\\u201d and the grand finale of \\u201cBad Romance,\\u201d all delivered   (a rare feat given the amount of dancing she was doing) and reasonably well.  It was a mesmerizing performance, filled with the kind of expert showmanship that only very confident artists can pull off. It reminded me, if only slightly, of Prince\\u2019s pageantry and   2007 halftime show in Miami, in which the late artist, ever the consummate entertainer, ran through a collection of Bob Dylan and Tina Turner covers before hoisting his guitar high for a rousing rendition of \\u201cPurple Rain,\\u201d in the middle of an actual downpour. Gaga did her set, and then it was over. No raised fists, no inappropriate language, no threats, no protests. No hysteria. She walked off the field after an epic exit in which she dropped the mic, caught a football and dove offstage, and then that stage was reset for what was to become one of the greatest comebacks in the history of the NFL. It is not unlikely  \\u2014   given the current political and cultural climate in America  \\u2014   that Gaga considered going the protest statement route, and then decided against it. After all, it is now firmly established that the endless political grandstanding has gotten celebrities absolutely nowhere. It rarely ever feels authentic, especially coming from people who earn more money in an hour for flashing their ass on TV than most Americans will earn in a lifetime. And even when it does feel authentic, millions across the country are bound to disagree. Conservative media, including yours truly, have made a cottage industry of pointing out exactly how clueless and out of touch celebrities are when compared with ordinary people. Just ask Hillary Clinton and her celebrity army how the last election worked out for them. And consider Beyonc\\u00e9\\u2019s halftime show. For months afterward, the conversation was focused almost entirely on the blatant   enforcement message she preached from America\\u2019s biggest stage, and now, a year after the show and despite liberals\\u2019 claim that everybody loves Beyonc\\u00e9! half the country now hates Beyonc\\u00e9. Her show led police groups to boycott her concerts, even as she audaciously used a police escort to get to the game (and later cashed in on the   sentiment by offering her very own line of \\u201cBoycott Beyonc\\u00e9\\u201d merchandise at her tour stops). More division. More disconnection between law enforcement and the people they serve and protect. All in the name of \\u201clove\\u201d and \\u201ctolerance. \\u201d Or consider Madonna at last month\\u2019s Women\\u2019s March on Washington, where she casually suggested to the tens of thousands of activists in attendance that she had often thought of blowing up the White House. What did that do for us? Or Meryl Streep\\u2019s   speech about morality at the Oscars, as if Hollywood is somehow the great arbiter of moral behavior. The only thing Streep\\u2019s speech accomplished is that conservatives can no longer enjoy Kramer vs. Kramer in the same way again. The bottom line is this: the best way to unite more than 100 million Americans with wildly disparate political views is to refrain from making any political statements at all. That Lady Gaga was the one to buck the trend freaked out plenty of entertainment journalists and commentators. Could this be the same Gaga that hopped on a sanitation truck outside Trump Tower in the   hours of November 9, defiantly holding up a \\u201cLove Trumps Hate\\u201d sign in a show of silent protest? After the show, Los Angeles Times writer Mikael Wood wrote that the collection of hits Gaga played Sunday night \\u201csounded like objects of distraction, catchy baubles meant to entertain us in the absence of a broader message. \\u201d That sentiment was widely shared among Hollywood journalists, as a cursory look around the Internet revealed on Monday morning. Gaga missed her chance to say something useful, something revolutionary. This would have been The Moment, the chance to break through and show America just how stupid and wrong it was for electing Donald Trump president. Gaga would have found the key. To which I say: good grief. Pop songs are by definition catchy baubles meant to entertain us, and if Lady Gaga wanted to show off her maturity as an artist by performing a collection of her greatest hits (and converting some of the skeptics) then so be it. In the meantime, go masturbate to Meryl Streep\\u2019s acceptance speech and dream of better days.   Follow Daniel Nussbaum on Twitter: @dznussbaum\",\n          \"Here's something interesting from The Unz Review... Recipient Name Recipient Email => \\nI was born on July 20, 1944, the day of the failed officers\\u2019 plot against Adolf Hitler. That means I preceded the official dawning of the nuclear age by exactly 369 days, which makes me part of the last generation to do so. I\\u2019m speaking not of the obliteration of two Japanese cities by America\\u2019s new \\u201cwonder weapon\\u201d on August 6th and 9th, 1945, but of the Trinity test of the first atomic bomb in the New Mexican desert near Alamogordo on July 16th of that year. When physicist Robert Oppenheimer , the \\u201cfather of the atomic bomb,\\u201d witnessed that explosion, the line from the Hindu holy book, the Bhagavad Gita , that famously came into his head was: \\u201cI am become Death, the destroyer of worlds.\\u201d \\nHow apt it still remains more than seven decades later, at a moment when nine countries possess such weapons \\u2014 more than 15,000 of them \\u2014 in their arsenals, most of which are now staggeringly more destructive than that first devastating bomb, and as TomDispatch regular Michael Klare points out today, some of which are closer to possible use than at any point in at least a couple of decades. For those of us who lived through the years of bomb shelters, atomic movie monsters , the Cuban Missile Crisis (which left me, age 18, fearing I might be toast in the morning), the rise and fall of antinuclear movements, and nuclear nightmares of a sort I still remember vividly from my youth in a way I no longer recall the dreams of last night, it\\u2019s a horror to imagine that nuclear war is still with us; even more so, because, in Election 2016, we have a presidential candidate who is not only ignorant about those weapons in hard-to-believe ways, but who wonders why \\u201cwe can\\u2019t use them,\\u201d and who might months from now have his finger on that \\u201cnuclear button\\u201d (or rather command of the nuclear codes that could launch such a war). Don\\u2019t tell me that this isn\\u2019t a living nightmare of the first order. \\nI find it eerie in the extreme and unnervingly apt that the Clinton campaign has brought back a living icon of our nuclear fears, the little girl from the 1964 election who appeared in the famous (or infamous) \\u201c Daisy \\u201d ad President Lyndon Johnson ran against Republican contender Barry Goldwater (who, in retrospect, seems like the soul of stability compared with you know whom). She was then seen counting to 10 as she plucked petals off a daisy just before an ominous, echoing male voice began the countdown to an atomic explosion that filled the screen. Now, that girl, Monique Luiz , a grown woman, is shown saying , \\u201cThe fear of nuclear war we had as children, I never thought our children would ever have to deal with that again. And to see that coming forward in this election is really scary.\\u201d \\nShe\\u2019s now 55 years old and, however the Clinton campaign may be using her, there\\u2019s still something deeply unnerving for those of us who had hoped to outlast the nuclear age simply to see her there more than five decades later. And if you think that\\u2019s unnerving on the eve of the most bizarre presidential election in memory, then read today\\u2019s piece by Michael Klare and imagine just how unsettling, in nuclear terms, the years ahead may prove to be.\"\n        ],\n        \"semantic_type\": \"\",\n        \"description\": \"\"\n      }\n    }\n  ]\n}"
            }
          },
          "metadata": {},
          "execution_count": 20
        }
      ]
    },
    {
      "cell_type": "code",
      "source": [
        "import nltk"
      ],
      "metadata": {
        "id": "UvDSx1XWN_cX"
      },
      "execution_count": null,
      "outputs": []
    },
    {
      "cell_type": "code",
      "source": [
        "import re\n",
        "from nltk.corpus import stopwords"
      ],
      "metadata": {
        "id": "thut81P1OF47"
      },
      "execution_count": null,
      "outputs": []
    },
    {
      "cell_type": "code",
      "source": [
        "nltk.download('stopwords')"
      ],
      "metadata": {
        "colab": {
          "base_uri": "https://localhost:8080/"
        },
        "id": "YZahhckKOMep",
        "outputId": "1e8e4f6d-7d56-48b2-a139-ac95a459f166"
      },
      "execution_count": null,
      "outputs": [
        {
          "output_type": "stream",
          "name": "stderr",
          "text": [
            "[nltk_data] Downloading package stopwords to /root/nltk_data...\n",
            "[nltk_data]   Unzipping corpora/stopwords.zip.\n"
          ]
        },
        {
          "output_type": "execute_result",
          "data": {
            "text/plain": [
              "True"
            ]
          },
          "metadata": {},
          "execution_count": 23
        }
      ]
    },
    {
      "cell_type": "code",
      "source": [
        "from nltk.stem.porter import PorterStemmer\n",
        "ps=PorterStemmer()\n",
        "corpus=[]\n",
        "for i in range(0,len(message)):\n",
        "  review=re.sub('[^a-zA-Z]',' ',message['title'][i])\n",
        "  review=review.lower()\n",
        "  review=review.split()\n",
        "\n",
        "  review=[ps.stem(word) for word in review if not word in stopwords.words('english')]\n",
        "  review=' '.join(review)\n",
        "  corpus.append(review)"
      ],
      "metadata": {
        "id": "HUAUdM4vOOJD"
      },
      "execution_count": null,
      "outputs": []
    },
    {
      "cell_type": "code",
      "source": [
        "len(corpus)"
      ],
      "metadata": {
        "colab": {
          "base_uri": "https://localhost:8080/"
        },
        "id": "NJ7ImsIOPK6d",
        "outputId": "dbed9fdf-1cec-417a-fc4a-a5fb0dff06cc"
      },
      "execution_count": null,
      "outputs": [
        {
          "output_type": "execute_result",
          "data": {
            "text/plain": [
              "13288"
            ]
          },
          "metadata": {},
          "execution_count": 42
        }
      ]
    },
    {
      "cell_type": "code",
      "source": [
        "onehot_repr=[one_hot(words,voc_size) for words in corpus]"
      ],
      "metadata": {
        "id": "0yGTcX_7Pdpg"
      },
      "execution_count": null,
      "outputs": []
    },
    {
      "cell_type": "code",
      "source": [
        "onehot_repr[0]\n",
        "print(len(onehot_repr))"
      ],
      "metadata": {
        "colab": {
          "base_uri": "https://localhost:8080/"
        },
        "id": "GXTjqhHDRb3H",
        "outputId": "5bbf38d2-46ca-4447-a302-f05856018303"
      },
      "execution_count": null,
      "outputs": [
        {
          "output_type": "stream",
          "name": "stdout",
          "text": [
            "13288\n"
          ]
        }
      ]
    },
    {
      "cell_type": "markdown",
      "source": [
        "## Embedding Representation"
      ],
      "metadata": {
        "id": "LsOPqJwLR7vc"
      }
    },
    {
      "cell_type": "code",
      "source": [
        "sent_length=20\n",
        "embedded_docs=pad_sequences(onehot_repr,padding='pre',maxlen=sent_length)"
      ],
      "metadata": {
        "id": "BfdrJEr1Rg4i"
      },
      "execution_count": null,
      "outputs": []
    },
    {
      "cell_type": "code",
      "source": [
        "embedded_docs"
      ],
      "metadata": {
        "colab": {
          "base_uri": "https://localhost:8080/"
        },
        "id": "VuNsm7DeSGV6",
        "outputId": "bf47c176-e241-4ea6-f507-b70d99b12adf"
      },
      "execution_count": null,
      "outputs": [
        {
          "output_type": "execute_result",
          "data": {
            "text/plain": [
              "array([[   0,    0,    0, ..., 1699, 1560,  542],\n",
              "       [   0,    0,    0, ..., 2601, 4211, 1013],\n",
              "       [   0,    0,    0, ..., 3762, 4373, 2549],\n",
              "       ...,\n",
              "       [   0,    0,    0, ..., 3008, 1442, 4625],\n",
              "       [   0,    0,    0, ..., 3268, 1874, 2978],\n",
              "       [   0,    0,    0, ...,  754, 4287, 3417]], dtype=int32)"
            ]
          },
          "metadata": {},
          "execution_count": 51
        }
      ]
    },
    {
      "cell_type": "code",
      "source": [
        "##creating model\n",
        "embedding_vector_features=40\n",
        "model=Sequential()\n",
        "model.add(Embedding(voc_size,embedding_vector_features,input_length=sent_length))\n",
        "model.add(Bidirectional(LSTM(100)))\n",
        "model.add(Dense(1,activation='sigmoid'))\n",
        "model.compile(loss='binary_crossentropy', optimizer='adam',metrics=['accuracy'])\n",
        "print(model.summary)"
      ],
      "metadata": {
        "colab": {
          "base_uri": "https://localhost:8080/"
        },
        "id": "aQyOpxTrSX9c",
        "outputId": "a0ec5725-e9ec-4eb2-b5e4-9a5637a7c973"
      },
      "execution_count": null,
      "outputs": [
        {
          "output_type": "stream",
          "name": "stdout",
          "text": [
            "<bound method Model.summary of <keras.src.engine.sequential.Sequential object at 0x7db71c5119c0>>\n"
          ]
        }
      ]
    },
    {
      "cell_type": "code",
      "source": [
        "import numpy as np\n",
        "X_final=np.array(embedded_docs)\n",
        "y_final=np.array(y)"
      ],
      "metadata": {
        "id": "eKSHmVWETxWF"
      },
      "execution_count": null,
      "outputs": []
    },
    {
      "cell_type": "code",
      "source": [
        "##train test split\n",
        "from sklearn.model_selection import train_test_split\n",
        "X_train, X_test, y_train, y_test = train_test_split(X_final, y_final, test_size=0.33, random_state=42)"
      ],
      "metadata": {
        "id": "4eFQbkOOXsjy"
      },
      "execution_count": null,
      "outputs": []
    },
    {
      "cell_type": "code",
      "source": [
        "##model training\n",
        "model.fit(X_train,y_train,validation_data=(X_test,y_test),epochs=10,batch_size=32)"
      ],
      "metadata": {
        "colab": {
          "base_uri": "https://localhost:8080/"
        },
        "id": "z9oLgRbCXwre",
        "outputId": "4bbec2e4-fcfe-47bb-fa2f-03496a883721"
      },
      "execution_count": null,
      "outputs": [
        {
          "output_type": "stream",
          "name": "stdout",
          "text": [
            "Epoch 1/10\n",
            "279/279 [==============================] - 12s 29ms/step - loss: 0.2845 - accuracy: 0.8707 - val_loss: 0.1897 - val_accuracy: 0.9234\n",
            "Epoch 2/10\n",
            "279/279 [==============================] - 9s 31ms/step - loss: 0.1335 - accuracy: 0.9492 - val_loss: 0.1979 - val_accuracy: 0.9211\n",
            "Epoch 3/10\n",
            "279/279 [==============================] - 8s 29ms/step - loss: 0.0815 - accuracy: 0.9697 - val_loss: 0.2338 - val_accuracy: 0.9195\n",
            "Epoch 4/10\n",
            "279/279 [==============================] - 7s 25ms/step - loss: 0.0441 - accuracy: 0.9860 - val_loss: 0.3218 - val_accuracy: 0.9102\n",
            "Epoch 5/10\n",
            "279/279 [==============================] - 8s 30ms/step - loss: 0.0281 - accuracy: 0.9909 - val_loss: 0.3274 - val_accuracy: 0.9191\n",
            "Epoch 6/10\n",
            "279/279 [==============================] - 8s 29ms/step - loss: 0.0157 - accuracy: 0.9952 - val_loss: 0.5188 - val_accuracy: 0.9104\n",
            "Epoch 7/10\n",
            "279/279 [==============================] - 9s 31ms/step - loss: 0.0113 - accuracy: 0.9966 - val_loss: 0.5063 - val_accuracy: 0.9061\n",
            "Epoch 8/10\n",
            "279/279 [==============================] - 9s 32ms/step - loss: 0.0148 - accuracy: 0.9963 - val_loss: 0.5343 - val_accuracy: 0.9074\n",
            "Epoch 9/10\n",
            "279/279 [==============================] - 7s 26ms/step - loss: 0.0097 - accuracy: 0.9972 - val_loss: 0.5043 - val_accuracy: 0.9074\n",
            "Epoch 10/10\n",
            "279/279 [==============================] - 9s 31ms/step - loss: 0.0030 - accuracy: 0.9992 - val_loss: 0.6439 - val_accuracy: 0.9042\n"
          ]
        },
        {
          "output_type": "execute_result",
          "data": {
            "text/plain": [
              "<keras.src.callbacks.History at 0x7db7187ba020>"
            ]
          },
          "metadata": {},
          "execution_count": 58
        }
      ]
    },
    {
      "cell_type": "code",
      "source": [
        "y_pred=model.predict(X_test)"
      ],
      "metadata": {
        "colab": {
          "base_uri": "https://localhost:8080/"
        },
        "id": "Hd1ZQ_37YTFP",
        "outputId": "a4983233-6318-4fd3-e6ac-de628e8621da"
      },
      "execution_count": null,
      "outputs": [
        {
          "output_type": "stream",
          "name": "stdout",
          "text": [
            "138/138 [==============================] - 2s 7ms/step\n"
          ]
        }
      ]
    },
    {
      "cell_type": "code",
      "source": [
        "y_pred"
      ],
      "metadata": {
        "colab": {
          "base_uri": "https://localhost:8080/"
        },
        "id": "lMOz1hgcZICE",
        "outputId": "b14d545f-f813-4a6a-ec84-eb1d01d87ace"
      },
      "execution_count": null,
      "outputs": [
        {
          "output_type": "execute_result",
          "data": {
            "text/plain": [
              "array([[1.0117904e-04],\n",
              "       [1.0243732e-05],\n",
              "       [2.3539160e-09],\n",
              "       ...,\n",
              "       [1.7412756e-05],\n",
              "       [9.9995267e-01],\n",
              "       [5.7963669e-05]], dtype=float32)"
            ]
          },
          "metadata": {},
          "execution_count": 60
        }
      ]
    },
    {
      "cell_type": "code",
      "source": [
        "import numpy as np\n",
        "\n",
        "y_pred>=0.5"
      ],
      "metadata": {
        "colab": {
          "base_uri": "https://localhost:8080/"
        },
        "id": "bWP7bwAUZKmy",
        "outputId": "5fc5264b-2f77-4ccf-fccb-ef7351c67591"
      },
      "execution_count": null,
      "outputs": [
        {
          "output_type": "execute_result",
          "data": {
            "text/plain": [
              "array([[False],\n",
              "       [False],\n",
              "       [False],\n",
              "       ...,\n",
              "       [False],\n",
              "       [ True],\n",
              "       [False]])"
            ]
          },
          "metadata": {},
          "execution_count": 61
        }
      ]
    },
    {
      "cell_type": "code",
      "source": [
        "y_pred=np.where(y_pred>=0.5,1,0)"
      ],
      "metadata": {
        "id": "t0Lp0PJJZXez"
      },
      "execution_count": null,
      "outputs": []
    },
    {
      "cell_type": "code",
      "source": [
        "from sklearn.metrics import confusion_matrix,accuracy_score\n",
        "confusion_matrix(y_test,y_pred)"
      ],
      "metadata": {
        "colab": {
          "base_uri": "https://localhost:8080/"
        },
        "id": "jm91mdzzZz8F",
        "outputId": "1e7fbad1-3e20-4cf4-b5b8-4c191c50a32c"
      },
      "execution_count": null,
      "outputs": [
        {
          "output_type": "execute_result",
          "data": {
            "text/plain": [
              "array([[2282,  220],\n",
              "       [ 200, 1684]])"
            ]
          },
          "metadata": {},
          "execution_count": 63
        }
      ]
    },
    {
      "cell_type": "code",
      "source": [
        "print(accuracy_score(y_test,y_pred))"
      ],
      "metadata": {
        "colab": {
          "base_uri": "https://localhost:8080/"
        },
        "id": "aksIt4KnZ7GG",
        "outputId": "46803e49-cbb3-4511-a460-c7e3fa0a56c9"
      },
      "execution_count": null,
      "outputs": [
        {
          "output_type": "stream",
          "name": "stdout",
          "text": [
            "0.9042407660738714\n"
          ]
        }
      ]
    },
    {
      "cell_type": "code",
      "source": [],
      "metadata": {
        "id": "DFkWTZ6xZ8wW"
      },
      "execution_count": null,
      "outputs": []
    }
  ]
}